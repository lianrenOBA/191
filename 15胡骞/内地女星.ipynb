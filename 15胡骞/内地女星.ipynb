{
 "cells": [
  {
   "cell_type": "code",
   "execution_count": null,
   "metadata": {},
   "outputs": [],
   "source": [
    "from selenium import webdriver\n",
    "driver = webdriver.Chrome()\n",
    "url = \"https://www.baidu.com/s?wd=%E5%A5%B3%E6%98%8E%E6%98%9F&ie=utf-8&tn=93338132_hao_pg\"\n",
    "driver.get(url)\n",
    "\n",
    "import time\n",
    "driver.find_element_by_xpath(\"//div[@id='1']/div/div/div/div[2]/p/span[4]\").click()#点击女\n",
    "time.sleep(0.5)\n",
    "driver.find_element_by_xpath(\"//div[@id='1']/div/div/div/div[2]/p[2]/span[3]\").click()#点击内地\n",
    "\n",
    "import re,time\n",
    "list1 = []\n",
    "while True:\n",
    "    html = driver.page_source\n",
    "    reobj1=re.compile('<span class=\"opui-page-next OP_LOG_BTN\" style=([\\d\\D]*?)>下一页</span>')\n",
    "    for match in reobj1.finditer(html):\n",
    "        i = match.group(1)\n",
    "        reobj = re.compile(r'<p class=\"op_exactqa_item_img\"><a href=\"([\\d\\D]*?)title=\"([\\d\\D]*?)\" target=\"_blank\"><img class=\"c-img c-img4\" src=\"([\\d\\D]*?)\"><a ')\n",
    "        for match in reobj.finditer(html):\n",
    "            a =\"https://www.baidu.com\" + match.group(1)\n",
    "            b = match.group(2)\n",
    "            c = match.group(3)\n",
    "            list1.append((b,c,a))\n",
    "        if i=='\"display: none;\"': #没有采完就继续下一页 采取完了就break退出\n",
    "            break\n",
    "    driver.find_element_by_xpath(\"//div[@id='1']/div/div/div[2]/div[2]/p/span[6]\").click()\n",
    "    time.sleep(0.1)\n",
    "print(list1)\n",
    "                           \n",
    "import codecs\n",
    "f = codecs.open(r\"D:\\nvming.csv\",\"w\",\"utf-8-sig\")\n",
    "f.write(\"姓名,照片,网址\\n\")\n",
    "for i in list1:\n",
    "    f.write(i[0]+\",\"+i[1]+\",\"+i[2]+\",\"+[3]+\"\\n\")\n",
    "f.close()"
   ]
  }
 ],
 "metadata": {
  "kernelspec": {
   "display_name": "Python 3",
   "language": "python",
   "name": "python3"
  },
  "language_info": {
   "codemirror_mode": {
    "name": "ipython",
    "version": 3
   },
   "file_extension": ".py",
   "mimetype": "text/x-python",
   "name": "python",
   "nbconvert_exporter": "python",
   "pygments_lexer": "ipython3",
   "version": "3.7.4"
  }
 },
 "nbformat": 4,
 "nbformat_minor": 2
}
