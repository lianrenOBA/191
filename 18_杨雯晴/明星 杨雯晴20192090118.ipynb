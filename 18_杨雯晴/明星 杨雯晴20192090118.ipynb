{
 "cells": [
  {
   "cell_type": "code",
   "execution_count": null,
   "metadata": {},
   "outputs": [],
   "source": [
    "import re,time\n",
    "from selenium import webdriver \n",
    "driver=webdriver.Chrome()\n",
    "url = 'https://www.baidu.com/s?wd=明星&rsv_spt=1&rsv_iqid=0xbe4b76860031fb66&issp=1&f=8&rsv_bp=1&rsv_idx=2&ie=utf-8&rqlang=&tn=baiduhome_pg&ch=&rsv_enter=1&rsv_dl=ib&inputT=2978'\n",
    "driver.get(url)\n",
    "driver.find_element_by_xpath(\"//div[@id='1']/div/div/div/div[2]/p/span[4]\").click()\n",
    "driver.find_element_by_xpath(\"//div[@id='1']/div/div/div/div[2]/p[2]/span[3]\").click()"
   ]
  },
  {
   "cell_type": "code",
   "execution_count": null,
   "metadata": {},
   "outputs": [
    {
     "name": "stdout",
     "output_type": "stream",
     "text": [
      "刘诗诗 https://dss1.baidu.com/6ONXsjip0QIZ8tyhnq/it/u=3301421587,374458331&amp;fm=58&amp;app=83&amp;f=JPEG?w=250&amp;h=250&amp;s=DA88AF476E23768C991018B303008060 /s?wd=%E5%88%98%E8%AF%97%E8%AF%97&amp;rsv_idx=2&amp;tn=baiduhome_pg&amp;usm=5&amp;ie=utf-8&amp;rsv_cq=%E6%98%8E%E6%98%9F&amp;rsv_dl=0_left_exactqa_28266\n",
      "==========\n",
      "周笔畅 https://dss2.baidu.com/6ONYsjip0QIZ8tyhnq/it/u=2691436022,2148011552&amp;fm=58&amp;app=83&amp;f=JPEG?w=250&amp;h=250&amp;s=F7B020625C336694340C77C70300F0AF /s?wd=%E5%91%A8%E7%AC%94%E7%95%85&amp;rsv_idx=2&amp;tn=baiduhome_pg&amp;usm=5&amp;ie=utf-8&amp;rsv_cq=%E6%98%8E%E6%98%9F&amp;rsv_dl=0_left_exactqa_28266\n",
      "==========\n",
      "陈冲 https://dss2.baidu.com/6ONYsjip0QIZ8tyhnq/it/u=3553072757,3884293712&amp;fm=58&amp;app=83&amp;f=JPEG?w=250&amp;h=250&amp;s=410AF31F4C01F694760808CA0300D020 /s?wd=%E9%99%88%E5%86%B2&amp;rsv_idx=2&amp;tn=baiduhome_pg&amp;usm=5&amp;ie=utf-8&amp;rsv_cq=%E6%98%8E%E6%98%9F&amp;rsv_dl=0_left_exactqa_28266\n",
      "==========\n",
      "麦迪娜 https://dss1.baidu.com/6ONXsjip0QIZ8tyhnq/it/u=3610427464,467002164&amp;fm=58&amp;app=83&amp;f=JPEG?w=250&amp;h=250&amp;s=AF30EB0704C386AC369CC4C90300C012 /s?wd=%E9%BA%A6%E8%BF%AA%E5%A8%9C&amp;rsv_idx=2&amp;tn=baiduhome_pg&amp;usm=5&amp;ie=utf-8&amp;rsv_cq=%E6%98%8E%E6%98%9F&amp;rsv_dl=0_left_exactqa_28266\n",
      "==========\n",
      "何超琼 https://dss1.baidu.com/6ONXsjip0QIZ8tyhnq/it/u=2655293521,2354664511&amp;fm=58&amp;app=83&amp;f=JPG?w=250&amp;h=250&amp;s=B75619C7AA62249C390C4DB803008012 /s?wd=%E4%BD%95%E8%B6%85%E7%90%BC&amp;rsv_idx=2&amp;tn=baiduhome_pg&amp;usm=5&amp;ie=utf-8&amp;rsv_cq=%E6%98%8E%E6%98%9F&amp;rsv_dl=0_left_exactqa_28266\n",
      "==========\n",
      "黎婉华 https://dss1.baidu.com/6ONXsjip0QIZ8tyhnq/it/u=3255144322,2719353774&amp;fm=58&amp;app=83&amp;f=JPEG?w=250&amp;h=250&amp;s=E8C27A2B0C60148C0194D14A0100E091 /s?wd=%E9%BB%8E%E5%A9%89%E5%8D%8E&amp;rsv_idx=2&amp;tn=baiduhome_pg&amp;usm=5&amp;ie=utf-8&amp;rsv_cq=%E6%98%8E%E6%98%9F&amp;rsv_dl=0_left_exactqa_28266\n",
      "==========\n",
      "迪丽热巴 https://dss2.baidu.com/6ONYsjip0QIZ8tyhnq/it/u=2351971469,1567920426&amp;fm=58&amp;app=83&amp;f=JPEG?w=250&amp;h=250&amp;s=5CB087553F325B94268C71C80300E032 /s?wd=%E8%BF%AA%E4%B8%BD%E7%83%AD%E5%B7%B4&amp;rsv_idx=2&amp;tn=baiduhome_pg&amp;usm=5&amp;ie=utf-8&amp;rsv_cq=%E6%98%8E%E6%98%9F&amp;rsv_dl=0_left_exactqa_28266\n",
      "==========\n",
      "赵丽颖 https://dss2.baidu.com/6ONYsjip0QIZ8tyhnq/it/u=1833321872,1873644000&amp;fm=58&amp;app=83&amp;f=JPEG?w=250&amp;h=250&amp;s=54F813D7523B5394D7AF02A003007029 /s?wd=%E8%B5%B5%E4%B8%BD%E9%A2%96&amp;rsv_idx=2&amp;tn=baiduhome_pg&amp;usm=5&amp;ie=utf-8&amp;rsv_cq=%E6%98%8E%E6%98%9F&amp;rsv_dl=0_left_exactqa_28266\n",
      "==========\n",
      "杨幂 https://dss0.baidu.com/6ONWsjip0QIZ8tyhnq/it/u=481823748,3803020137&amp;fm=58&amp;app=83&amp;f=JPEG?w=250&amp;h=250&amp;s=B9166094023B4794C78571F803008034 /s?wd=%E6%9D%A8%E5%B9%82&amp;rsv_idx=2&amp;tn=baiduhome_pg&amp;usm=5&amp;ie=utf-8&amp;rsv_cq=%E6%98%8E%E6%98%9F&amp;rsv_dl=0_left_exactqa_28266\n",
      "==========\n",
      "Angelababy https://dss2.baidu.com/6ONYsjip0QIZ8tyhnq/it/u=4270701299,2941499669&amp;fm=58&amp;app=83&amp;f=JPEG?w=250&amp;h=250&amp;s=DABBA345F1026F5D92BC84FE03000033 /s?wd=Angelababy&amp;rsv_idx=2&amp;tn=baiduhome_pg&amp;usm=5&amp;ie=utf-8&amp;rsv_cq=%E6%98%8E%E6%98%9F&amp;rsv_dl=0_left_exactqa_28266\n",
      "==========\n",
      "苍井空 https://dss1.baidu.com/6ONXsjip0QIZ8tyhnq/it/u=4042062772,1300677165&amp;fm=58&amp;app=83&amp;f=JPEG?w=250&amp;h=250&amp;s=F1B51F7403426F51064259CF0300B0B9 /s?wd=%E8%8B%8D%E4%BA%95%E7%A9%BA&amp;rsv_idx=2&amp;tn=baiduhome_pg&amp;usm=5&amp;ie=utf-8&amp;rsv_cq=%E6%98%8E%E6%98%9F&amp;rsv_dl=0_left_exactqa_28266\n",
      "==========\n",
      "何超仪 https://dss2.baidu.com/6ONYsjip0QIZ8tyhnq/it/u=2197314275,1004718386&amp;fm=58&amp;app=83&amp;f=JPEG?w=250&amp;h=250&amp;s=90B0AF3B4E7152941EB583E103005025 /s?wd=%E4%BD%95%E8%B6%85%E4%BB%AA&amp;rsv_idx=2&amp;tn=baiduhome_pg&amp;usm=5&amp;ie=utf-8&amp;rsv_cq=%E6%98%8E%E6%98%9F&amp;rsv_dl=0_left_exactqa_28266\n",
      "==========\n",
      "刘诗诗 https://dss1.baidu.com/6ONXsjip0QIZ8tyhnq/it/u=3301421587,374458331&amp;fm=58&amp;app=83&amp;f=JPEG?w=250&amp;h=250&amp;s=DA88AF476E23768C991018B303008060 /s?wd=%E5%88%98%E8%AF%97%E8%AF%97&amp;rsv_idx=2&amp;tn=baiduhome_pg&amp;usm=5&amp;ie=utf-8&amp;rsv_cq=%E6%98%8E%E6%98%9F&amp;rsv_dl=0_left_exactqa_28266\n",
      "==========\n",
      "周笔畅 https://dss2.baidu.com/6ONYsjip0QIZ8tyhnq/it/u=2691436022,2148011552&amp;fm=58&amp;app=83&amp;f=JPEG?w=250&amp;h=250&amp;s=F7B020625C336694340C77C70300F0AF /s?wd=%E5%91%A8%E7%AC%94%E7%95%85&amp;rsv_idx=2&amp;tn=baiduhome_pg&amp;usm=5&amp;ie=utf-8&amp;rsv_cq=%E6%98%8E%E6%98%9F&amp;rsv_dl=0_left_exactqa_28266\n",
      "==========\n",
      "麦迪娜 https://dss1.baidu.com/6ONXsjip0QIZ8tyhnq/it/u=3610427464,467002164&amp;fm=58&amp;app=83&amp;f=JPEG?w=250&amp;h=250&amp;s=AF30EB0704C386AC369CC4C90300C012 /s?wd=%E9%BA%A6%E8%BF%AA%E5%A8%9C&amp;rsv_idx=2&amp;tn=baiduhome_pg&amp;usm=5&amp;ie=utf-8&amp;rsv_cq=%E6%98%8E%E6%98%9F&amp;rsv_dl=0_left_exactqa_28266\n",
      "==========\n",
      "何超琼 https://dss1.baidu.com/6ONXsjip0QIZ8tyhnq/it/u=2655293521,2354664511&amp;fm=58&amp;app=83&amp;f=JPG?w=250&amp;h=250&amp;s=B75619C7AA62249C390C4DB803008012 /s?wd=%E4%BD%95%E8%B6%85%E7%90%BC&amp;rsv_idx=2&amp;tn=baiduhome_pg&amp;usm=5&amp;ie=utf-8&amp;rsv_cq=%E6%98%8E%E6%98%9F&amp;rsv_dl=0_left_exactqa_28266\n",
      "==========\n",
      "迪丽热巴 https://dss2.baidu.com/6ONYsjip0QIZ8tyhnq/it/u=2351971469,1567920426&amp;fm=58&amp;app=83&amp;f=JPEG?w=250&amp;h=250&amp;s=5CB087553F325B94268C71C80300E032 /s?wd=%E8%BF%AA%E4%B8%BD%E7%83%AD%E5%B7%B4&amp;rsv_idx=2&amp;tn=baiduhome_pg&amp;usm=5&amp;ie=utf-8&amp;rsv_cq=%E6%98%8E%E6%98%9F&amp;rsv_dl=0_left_exactqa_28266\n",
      "==========\n",
      "赵丽颖 https://dss2.baidu.com/6ONYsjip0QIZ8tyhnq/it/u=1833321872,1873644000&amp;fm=58&amp;app=83&amp;f=JPEG?w=250&amp;h=250&amp;s=54F813D7523B5394D7AF02A003007029 /s?wd=%E8%B5%B5%E4%B8%BD%E9%A2%96&amp;rsv_idx=2&amp;tn=baiduhome_pg&amp;usm=5&amp;ie=utf-8&amp;rsv_cq=%E6%98%8E%E6%98%9F&amp;rsv_dl=0_left_exactqa_28266\n",
      "==========\n",
      "杨幂 https://dss0.baidu.com/6ONWsjip0QIZ8tyhnq/it/u=481823748,3803020137&amp;fm=58&amp;app=83&amp;f=JPEG?w=250&amp;h=250&amp;s=B9166094023B4794C78571F803008034 /s?wd=%E6%9D%A8%E5%B9%82&amp;rsv_idx=2&amp;tn=baiduhome_pg&amp;usm=5&amp;ie=utf-8&amp;rsv_cq=%E6%98%8E%E6%98%9F&amp;rsv_dl=0_left_exactqa_28266\n",
      "==========\n",
      "Angelababy https://dss2.baidu.com/6ONYsjip0QIZ8tyhnq/it/u=4270701299,2941499669&amp;fm=58&amp;app=83&amp;f=JPEG?w=250&amp;h=250&amp;s=DABBA345F1026F5D92BC84FE03000033 /s?wd=Angelababy&amp;rsv_idx=2&amp;tn=baiduhome_pg&amp;usm=5&amp;ie=utf-8&amp;rsv_cq=%E6%98%8E%E6%98%9F&amp;rsv_dl=0_left_exactqa_28266\n",
      "==========\n",
      "郑爽 https://dss2.baidu.com/6ONYsjip0QIZ8tyhnq/it/u=3617635769,3367718214&amp;fm=58&amp;app=83&amp;f=JPEG?w=250&amp;h=250&amp;s=F5643D76E1A1C715814175EA0300E032 /s?wd=%E9%83%91%E7%88%BD&amp;rsv_idx=2&amp;tn=baiduhome_pg&amp;usm=5&amp;ie=utf-8&amp;rsv_cq=%E6%98%8E%E6%98%9F&amp;rsv_dl=0_left_exactqa_28266\n",
      "==========\n",
      "马伊琍 https://dss0.baidu.com/6ONWsjip0QIZ8tyhnq/it/u=2704604412,244718317&amp;fm=58&amp;app=83&amp;f=JPEG?w=250&amp;h=250&amp;s=5EBA39C5CE3304841090A4E90300A013 /s?wd=%E9%A9%AC%E4%BC%8A%E7%90%8D&amp;rsv_idx=2&amp;tn=baiduhome_pg&amp;usm=5&amp;ie=utf-8&amp;rsv_cq=%E6%98%8E%E6%98%9F&amp;rsv_dl=0_left_exactqa_28266\n",
      "==========\n",
      "宋茜 https://dss2.baidu.com/6ONYsjip0QIZ8tyhnq/it/u=2155344170,3127792488&amp;fm=58&amp;app=83&amp;f=JPEG?w=250&amp;h=250&amp;s=543407743E6358056C0C6DCB030070BB /s?wd=%E5%AE%8B%E8%8C%9C&amp;rsv_idx=2&amp;tn=baiduhome_pg&amp;usm=5&amp;ie=utf-8&amp;rsv_cq=%E6%98%8E%E6%98%9F&amp;rsv_dl=0_left_exactqa_28266\n",
      "==========\n",
      "关晓彤 https://dss0.baidu.com/6ONWsjip0QIZ8tyhnq/it/u=3540506781,693903374&amp;fm=58&amp;app=83&amp;f=JPG?w=250&amp;h=250&amp;s=46948765CA647215FE2841DF0300C0EA /s?wd=%E5%85%B3%E6%99%93%E5%BD%A4&amp;rsv_idx=2&amp;tn=baiduhome_pg&amp;usm=5&amp;ie=utf-8&amp;rsv_cq=%E6%98%8E%E6%98%9F&amp;rsv_dl=0_left_exactqa_28266\n",
      "==========\n"
     ]
    }
   ],
   "source": [
    "list=[]\n",
    "while True: \n",
    "        html = driver.page_source  \n",
    "        reobj = re.compile('<p class=\"op_exactqa_item_img\"><a href=\"(.*?)\" title=\"(.{1,20}?)\" target=\"_blank\"><img class=\"c-img c-img4\" src=\"(.*?)\"',re.MULTILINE)\n",
    "        for match in reobj.finditer(html):\n",
    "            a=match.group(1)\n",
    "            b=match.group(2)\n",
    "            c=match.group(3)\n",
    "            d = (a,b,c)\n",
    "            print(b,c,a)\n",
    "            print(\"=\"*10)\n",
    "            list.append(d)\n",
    "        ads = re.search(r'<span class=\"opui-page-next OP_LOG_BTN\" style=\"\">下一页</span>', html)\n",
    "        if not ads:\n",
    "            break\n",
    "        else:\n",
    "            driver.find_element_by_xpath(\"//div[@id='1']/div/div/div[2]/div[2]/p/span[6]\").click()       "
   ]
  },
  {
   "cell_type": "code",
   "execution_count": null,
   "metadata": {},
   "outputs": [],
   "source": [
    "f = codecs.open(r\"d:\\明星信息.csv\",\"w\",\"utf-8-sig\")\n",
    "f.write(\"姓名，链接，照片\\n\")\n",
    "for i in list:\n",
    "   f.write(\",\".join(i)+\"\\n\") \n",
    "f.close()\n"
   ]
  },
  {
   "cell_type": "code",
   "execution_count": null,
   "metadata": {},
   "outputs": [],
   "source": []
  },
  {
   "cell_type": "code",
   "execution_count": null,
   "metadata": {},
   "outputs": [],
   "source": []
  },
  {
   "cell_type": "code",
   "execution_count": null,
   "metadata": {},
   "outputs": [],
   "source": []
  },
  {
   "cell_type": "code",
   "execution_count": null,
   "metadata": {},
   "outputs": [],
   "source": []
  }
 ],
 "metadata": {
  "kernelspec": {
   "display_name": "Python 3",
   "language": "python",
   "name": "python3"
  },
  "language_info": {
   "codemirror_mode": {
    "name": "ipython",
    "version": 3
   },
   "file_extension": ".py",
   "mimetype": "text/x-python",
   "name": "python",
   "nbconvert_exporter": "python",
   "pygments_lexer": "ipython3",
   "version": "3.6.5"
  }
 },
 "nbformat": 4,
 "nbformat_minor": 2
}
