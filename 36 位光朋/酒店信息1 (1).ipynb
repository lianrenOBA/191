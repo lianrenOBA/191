{
 "cells": [
  {
   "cell_type": "markdown",
   "metadata": {},
   "source": [
    "# 解题思路\n",
    "1、利用webdriver打开网页源代码\n",
    "2、构建一个列表\n",
    "3、利用for语句进行打开网页\n",
    "4、利用正则表达式循环抽取酒店信息\n",
    "5、将获取的数据插入列表封装储存"
   ]
  },
  {
   "cell_type": "code",
   "execution_count": null,
   "metadata": {},
   "outputs": [],
   "source": [
    "import re,time,codecs\n",
    "from selenium import webdriver\n",
    "driver=webdriver.Chrome()\n",
    "url = 'https://map.baidu.com/search/%E9%85%92%E5%BA%97/@13401816.6,3523321.62,17z?querytype=nb&r=1000&wd=%E9%85%92%E5%BA%97&nb_x=13401816.60&nb_y=3523321.62&uid=7a0cb8c0d67a634683a00c28&b=(13400809.909611505,3522782.19066226;13402823.09336229,3524093.869264365)&l=17&gr_radius=1000&pn=0&device_ratio=2&da_src=shareurl'\n",
    "driver.get(url)"
   ]
  },
  {
   "cell_type": "code",
   "execution_count": null,
   "metadata": {},
   "outputs": [],
   "source": [
    "adds = []\n",
    "for i in range(9):\n",
    "    html = driver.page_source\n",
    "    reobj = re.compile(r'\"list_page\">([\\d\\D]*?)</a>[\\d\\D]*?<span>[\\d\\D]*?<i class=\"seperate\">[|]</i>([\\d\\D]*?)</span>[\\d\\D]*?<span class=\"n-grey\" title=\"([\\d\\D]*?)</span>')\n",
    "    for match in reobj.finditer(html):\n",
    "        add = match.group(1)\n",
    "        add1 = match.group(2)\n",
    "        add2 = match.group(3)\n",
    "        a = (add,add1,add2)\n",
    "        print(a)\n",
    "        adds.append(a)\n",
    "    driver.find_element_by_link_text(u\"下一页>\").click()\n",
    "    time.sleep(3)"
   ]
  },
  {
   "cell_type": "code",
   "execution_count": null,
   "metadata": {},
   "outputs": [],
   "source": [
    "f = codecs.open(r\"d:\\酒店信息.csv\",\"w\",\"utf-8-sig\")\n",
    "f.write(\"名称,类型,地址\\n\")\n",
    "for i in adds:\n",
    "   f.write(\",\".join(i)+\"\\n\") \n",
    "f.close()"
   ]
  }
 ],
 "metadata": {
  "kernelspec": {
   "display_name": "Python 3",
   "language": "python",
   "name": "python3"
  },
  "language_info": {
   "codemirror_mode": {
    "name": "ipython",
    "version": 3
   },
   "file_extension": ".py",
   "mimetype": "text/x-python",
   "name": "python",
   "nbconvert_exporter": "python",
   "pygments_lexer": "ipython3",
   "version": "3.7.4"
  }
 },
 "nbformat": 4,
 "nbformat_minor": 2
}
