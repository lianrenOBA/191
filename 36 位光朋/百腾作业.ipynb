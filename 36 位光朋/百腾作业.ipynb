{
 "cells": [
  {
   "cell_type": "code",
   "execution_count": 1,
   "metadata": {},
   "outputs": [],
   "source": [
    "import re,time\n",
    "from selenium import webdriver\n",
    "url = ('https://pintia.cn/problem-sets/1111652100718116864/problems/type/7','https://pintia.cn/problem-sets/1111652100718116864/problems/type/6')"
   ]
  },
  {
   "cell_type": "code",
   "execution_count": null,
   "metadata": {},
   "outputs": [],
   "source": [
    "tk = []\n",
    "for i in url:\n",
    "    urls = i\n",
    "    driver=webdriver.Chrome()\n",
    "    driver.get(urls)\n",
    "    time.sleep(3)\n",
    "    html = driver.page_source\n",
    "    reobj = re.compile(r'<td>([\\d\\D]*?)</td><td><a href=\"([\\d\\D]*?)?\" class=\"\">([\\d\\D]*?)</a></td><td>([\\d\\D]*?)</td><td>([\\d\\D]*?)</td><td>([\\d\\D]*?)</td><td>([\\d\\D]*?)</td></tr><tr><td class=\"answerIcon_1du7d\"></td>')\n",
    "    for match in reobj.finditer(html):\n",
    "        biaohao = match.group(1)\n",
    "        lianjie = \"https://pintia.cn\" + match.group(2)\n",
    "        biaoti =  match.group(3)\n",
    "        fenshu = match.group(4)\n",
    "        tongguoshu = match.group(5)\n",
    "        tijiaoshu = match.group(6)\n",
    "        tongguolv = match.group(7)\n",
    "        a = (biaohao,lianjie,biaoti,fenshu,tongguoshu,tijiaoshu,tongguolv)\n",
    "        tk.append(a)\n",
    "        print(\"标号:\",biaohao,\"标题:\",biaoti,\"分数:\",fenshu,\"通过数:\",tongguoshu,\"提交数:\",tijiaoshu,\"通过率:\",tongguolv,\"url:\",lianjie)\n",
    "    driver.close()"
   ]
  },
  {
   "cell_type": "code",
   "execution_count": null,
   "metadata": {},
   "outputs": [],
   "source": [
    "from pony.orm import *\n",
    "\n",
    "\n",
    "db = Database()\n",
    "\n",
    "\n",
    "class Baitengtiku(db.Entity):\n",
    "    biaohao = Optional(str, column='biaohao')\n",
    "    lianjie = Optional(str, column=\"lianjie \")\n",
    "    biaoti = Optional(str, column='biaoti')\n",
    "    fenshu = Optional(str, column='fenshu')\n",
    "    tongguoshu = Optional(str, column='tongguoshu')\n",
    "    tijiaoshu = Optional(str, column=\"tijiaoshu \")\n",
    "    tongguolv = Optional(str, column='tongguolv')\n",
    "    xiangqingye = Optional(str, column='xiangqingye')\n",
    "\n",
    "\n",
    "\n",
    "#db.generate_mapping()\n",
    "db.bind(provider='sqlite', filename='C:/code2020/百腾.sqlite')\n",
    "\n",
    "db.generate_mapping(create_tables=True)\n",
    "#将实体映射到数据库表,参数create_tables = True表示如果实体指向的表尚不存在，则使用CREATE TABLE命令创建它们。必须在调用generate_mapping（）方法之前定义连接到数据库的所有实体。\n",
    "\n",
    "set_sql_debug(True)\n",
    "\n",
    "for x in tk:\n",
    "    s = Baitengtiku(biaohao=x[0],lianjie=x[1],biaoti=x[2],fenshu=x[3],tongguoshu=x[4],tijiaoshu=x[5],tongguolv=x[6])\n",
    "    db.commit()"
   ]
  },
  {
   "cell_type": "code",
   "execution_count": null,
   "metadata": {},
   "outputs": [],
   "source": [
    "query = Baiteng.select()\n",
    "for s in query:\n",
    "    driver=webdriver.Chrome()\n",
    "    driver.get(s.lianjie)\n",
    "    time.sleep(2)\n",
    "    html = driver.page_source\n",
    "    reobj = re.compile(r'align-items-start\"><div style=\"width: 100%;\">([\\d\\D]*?)</div><div class=\"problemInfo_OZ-Rv\">')\n",
    "    for match in reobj.finditer(html):\n",
    "        a = match.group(1)\n",
    "        s.xiangqingye = a\n",
    "        db.commit()\n",
    "    driver.close()"
   ]
  }
 ],
 "metadata": {
  "kernelspec": {
   "display_name": "Python 3",
   "language": "python",
   "name": "python3"
  },
  "language_info": {
   "codemirror_mode": {
    "name": "ipython",
    "version": 3
   },
   "file_extension": ".py",
   "mimetype": "text/x-python",
   "name": "python",
   "nbconvert_exporter": "python",
   "pygments_lexer": "ipython3",
   "version": "3.7.4"
  }
 },
 "nbformat": 4,
 "nbformat_minor": 2
}
