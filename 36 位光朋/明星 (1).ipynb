{
 "cells": [
  {
   "cell_type": "markdown",
   "metadata": {},
   "source": [
    "# 解题思路\n",
    "1、利用webdriver打开网页源代码\n",
    "2、利用Katalon Recorder谷歌浏览器插件模拟点击翻页\n",
    "3、构建一个列表\n",
    "4、利用正则表达式循环信息\n",
    "5、将获取的数据插入列表封装储存"
   ]
  },
  {
   "cell_type": "code",
   "execution_count": null,
   "metadata": {},
   "outputs": [],
   "source": [
    "import re,time,codecs\n",
    "from selenium import webdriver \n",
    "driver=webdriver.Chrome()\n",
    "url = 'https://www.baidu.com/s?wd=明星&rsv_spt=1&rsv_iqid=0xbe4b76860031fb66&issp=1&f=8&rsv_bp=1&rsv_idx=2&ie=utf-8&rqlang=&tn=baiduhome_pg&ch=&rsv_enter=1&rsv_dl=ib&inputT=2978'\n",
    "driver.get(url)\n",
    "driver.find_element_by_xpath(\"//div[@id='1']/div/div/div/div[2]/p/span[4]\").click()\n",
    "driver.find_element_by_xpath(\"//div[@id='1']/div/div/div/div[2]/p[2]/span[3]\").click"
   ]
  },
  {
   "cell_type": "code",
   "execution_count": null,
   "metadata": {},
   "outputs": [],
   "source": [
    "list=[]\n",
    "while True: \n",
    "        html = driver.page_source  \n",
    "        reobj = re.compile('<p class=\"op_exactqa_item_img\"><a href=\"(.*?)\" title=\"(.{1,20}?)\" target=\"_blank\"><img class=\"c-img c-img4\" src=\"(.*?)\"',re.MULTILINE)\n",
    "        for match in reobj.finditer(html):\n",
    "            a=match.group(1)\n",
    "            b=match.group(2)\n",
    "            c=match.group(3)\n",
    "            d = (a,b,c)\n",
    "            print(b,c,a)\n",
    "            print(\"=\"*10)\n",
    "            list.append(d)\n",
    "        ads = re.search(r'<span class=\"opui-page-next OP_LOG_BTN\" style=\"\">下一页</span>', html)\n",
    "        if not ads:\n",
    "            break\n",
    "        else:\n",
    "            driver.find_element_by_xpath(\"//div[@id='1']/div/div/div[2]/div[2]/p/span[6]\").click()       "
   ]
  },
  {
   "cell_type": "code",
   "execution_count": null,
   "metadata": {},
   "outputs": [],
   "source": [
    "f = codecs.open(r\"d:\\明星信息.csv\",\"w\",\"utf-8-sig\")\n",
    "f.write(\"姓名，链接，照片\\n\")\n",
    "for i in list:\n",
    "   f.write(\",\".join(i)+\"\\n\") \n",
    "f.close()"
   ]
  },
  {
   "cell_type": "code",
   "execution_count": null,
   "metadata": {},
   "outputs": [],
   "source": []
  }
 ],
 "metadata": {
  "kernelspec": {
   "display_name": "Python 3",
   "language": "python",
   "name": "python3"
  },
  "language_info": {
   "codemirror_mode": {
    "name": "ipython",
    "version": 3
   },
   "file_extension": ".py",
   "mimetype": "text/x-python",
   "name": "python",
   "nbconvert_exporter": "python",
   "pygments_lexer": "ipython3",
   "version": "3.7.4"
  }
 },
 "nbformat": 4,
 "nbformat_minor": 2
}
