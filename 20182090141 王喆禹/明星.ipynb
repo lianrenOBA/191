{
 "cells": [
  {
   "cell_type": "code",
   "execution_count": null,
   "metadata": {},
   "outputs": [],
   "source": [
    "import re,time\n",
    "from selenium import webdriver\n",
    "driver = webdriver.Chrome()\n",
    "url = \"https://www.baidu.com/s?wd=%E6%98%8E%E6%98%9F&rsv_spt=1&rsv_iqid=0xbe4b76860031fb66&issp=1&f=8&rsv_bp=1&rsv_idx=2&ie=utf-8&rqlang=&tn=baiduhome_pg&ch=&rsv_enter=1&rsv_dl=ib&inputT=2978\"\n",
    "driver.get(url)\n",
    "time.sleep(2)\n",
    "driver.find_element_by_xpath(\"//div[@id='1']/div/div/div/div[2]/p/span[4]\").click()\n",
    "time.sleep(1)\n",
    "driver.find_element_by_xpath(\"//div[@id='1']/div/div/div/div[2]/p[2]/span[3]\").click()\n",
    "time.sleep(1)\n",
    "list9 = []\n",
    "while True:\n",
    "    html = driver.page_source\n",
    "    reobj1=re.compile('<span class=\"opui-page-next OP_LOG_BTN\" style=([\\d\\D]*?)>下一页</span>',re.MULTILINE)\n",
    "    for match in reobj1.finditer(html):\n",
    "        d=match.group(1)\n",
    "        reobj = re.compile(r'<p class=\"op_exactqa_item_img\"><a href=\"([\\d\\D]*?)\" title=\"([\\d\\D]*?)\" target=\"_blank\"><img class=\"c-img c-img4\" src=\"([\\d\\D]*?)\">')\n",
    "        for match in reobj.finditer(html):\n",
    "            i=\"https://www.baidu.com\"+match.group(1)\n",
    "            k=match.group(2)\n",
    "            l=match.group(3)\n",
    "            list9.append((k,i,l))\n",
    "    if d =='\"display: none;\"':\n",
    "        break\n",
    "    driver.find_element_by_xpath(\"//div[@id='1']/div/div/div[2]/div[2]/p/span[6]\").click() #从Katalon Recorder插件中copy过来的代码\n",
    "    time.sleep(0.1)\n",
    "    \n",
    "import codecs\n",
    "a=len(list)\n",
    "f = codecs.open(r\"D:\\nvming.csv\",\"w\",\"utf-8-sig\")\n",
    "f.write(\"姓名,照片,网址\\n\")\n",
    "for i in list(9):#不需要-1\n",
    "    f.write(a[0]+\",\"+a[1]+\",\"+a[2]+\"\\n\")\n",
    "f.close()"
   ]
  }
 ],
 "metadata": {
  "kernelspec": {
   "display_name": "Python 3",
   "language": "python",
   "name": "python3"
  },
  "language_info": {
   "codemirror_mode": {
    "name": "ipython",
    "version": 3
   },
   "file_extension": ".py",
   "mimetype": "text/x-python",
   "name": "python",
   "nbconvert_exporter": "python",
   "pygments_lexer": "ipython3",
   "version": "3.6.5"
  }
 },
 "nbformat": 4,
 "nbformat_minor": 2
}
