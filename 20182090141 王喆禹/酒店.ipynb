{
 "cells": [
  {
   "cell_type": "code",
   "execution_count": 23,
   "metadata": {},
   "outputs": [],
   "source": [
    "from selenium import webdriver\n",
    "driver=webdriver.Chrome()\n",
    "url = \"https://map.baidu.com/search/%E9%85%92%E5%BA%97/@13395888.6,3526321.62,16z?querytype=nb&from=webmap&c=179&wd=%E9%85%92%E5%BA%97&pn=4&nn=30&db=0&sug=0&addr=0&pl_data_type=hotel&pl_sub_type=%E9%85%92%E5%BA%97&pl_price_section=0,%2B&pl_sort_type=default&pl_sort_rule=0&pl_discount2_section=0,%2B&pl_groupon_section=0,%2B&pl_cater_book_pc_section=0,%2B&pl_hotel_book_pc_section=0,%2B&pl_ticket_book_flag_section=0,%2B&pl_movie_book_section=0,%2B&pl_business_type=hotel&da_src=shareurl&on_gel=1&src=7&gr=3&l=13&uid=7a0cb8c0d67a634683a00c28&r=1000&device_ratio=2\"\n",
    "driver.get(url)"
   ]
  },
  {
   "cell_type": "code",
   "execution_count": 24,
   "metadata": {},
   "outputs": [
    {
     "name": "stdout",
     "output_type": "stream",
     "text": [
      "酒店名称 ,评分: ,类型: ,地址:\n",
      "[('祥平快捷酒店', '分', '经济型                ', '浙江省杭州市江干区学正街879号\"'), ('金昌宾馆', '分', '经济型                ', '杭州市江干区２５号大街与学正街交叉路口往南约100米(金沙学府)\"'), ('亚居精品酒店', '分', '宾馆                ', '杭州市江干区１９号大街与６号大街交叉路口南侧(天元公寓)\"'), ('好心情旅馆(学林街)', '分', '经济型                ', '浙江省杭州市江干区高沙南区86号\"'), ('杭州迈捷酒店', '分', '经济型                ', '浙江省杭州市江干区2号大街863号十六街区商城一幢10楼\"'), ('杭州下沙亚朵酒店(杭州下沙店)', '分', '高档型                ', '浙江省杭州市江干区4号大街209号(海达大厦内)\"'), ('汉庭酒店(高沙路地铁站店)', '分', '经济型                ', '杭州市江干区天城东路84号\"'), ('胜梦精品酒店', '分', '经济型                ', '浙江省杭州市江干区下沙经济开发区6号大街精欧荣寓3幢底商\"'), ('聚缘商务酒店', '分', '经济型                ', '浙江省杭州市江干区围垦街168号\"'), ('开心旅馆', '分', '经济型                ', '杭州市江干区学林街与文渊路交叉路口往西南约50米(高沙小区)\"')]\n",
      "[('祥平快捷酒店', '分', '经济型                ', '浙江省杭州市江干区学正街879号\"'), ('金昌宾馆', '分', '经济型                ', '杭州市江干区２５号大街与学正街交叉路口往南约100米(金沙学府)\"'), ('亚居精品酒店', '分', '宾馆                ', '杭州市江干区１９号大街与６号大街交叉路口南侧(天元公寓)\"'), ('好心情旅馆(学林街)', '分', '经济型                ', '浙江省杭州市江干区高沙南区86号\"'), ('杭州迈捷酒店', '分', '经济型                ', '浙江省杭州市江干区2号大街863号十六街区商城一幢10楼\"'), ('杭州下沙亚朵酒店(杭州下沙店)', '分', '高档型                ', '浙江省杭州市江干区4号大街209号(海达大厦内)\"'), ('汉庭酒店(高沙路地铁站店)', '分', '经济型                ', '杭州市江干区天城东路84号\"'), ('胜梦精品酒店', '分', '经济型                ', '浙江省杭州市江干区下沙经济开发区6号大街精欧荣寓3幢底商\"'), ('聚缘商务酒店', '分', '经济型                ', '浙江省杭州市江干区围垦街168号\"'), ('开心旅馆', '分', '经济型                ', '杭州市江干区学林街与文渊路交叉路口往西南约50米(高沙小区)\"'), ('开心旅馆', '分', '经济型                ', '杭州市江干区学林街与文渊路交叉路口往西南约50米(高沙小区)\"'), ('杭州和顺新亚洲美学精品酒店', '分', '舒适型                ', '杭州市江干区１０号大街与听涛路交叉路口东北侧(源隆商业大厦)\"'), ('福雷德·君喆酒店', '分', '经济型                ', '浙江省杭州市江干区下沙区高教园区文泽路艾肯金座1层\"'), ('一米酒店', '分', '酒店                ', '杭州市江干区4号大街15号西子·阳光星城F1\"'), ('华辰星光大酒店', '分', '舒适型                ', '浙江省杭州市江干区六号大街6号\"'), ('舒米酒店(下沙大学城店)', '分', '经济型                ', '杭州市江干区学源街1163号\"'), ('东运精品酒店(杭州下沙地铁江滨站店)', '分', '经济型                ', '浙江省杭州市江干区世茂江滨商业中心3幢201号\"'), ('格林豪泰快捷酒店(东沙商业中心店)', '分', '经济型                ', '浙江省杭州市江干区下沙开发区天城东路118号(东沙商业中心对面)\"'), ('如家酒店(文渊路传媒学院店)', '分', '经济型                ', '杭州市江干区文渊路291号\"'), ('锦江都城酒店(下沙店)', '分', '舒适型                ', '杭州市江干区4号大街15号2幢内\"')]\n"
     ]
    }
   ],
   "source": [
    "import re\n",
    "import time\n",
    "html = driver.page_source\n",
    "print(\"酒店名称\",\",评分:\",\",类型:\",\",地址:\")\n",
    "list=[]\n",
    "for i in range(2):\n",
    "    html = driver.page_source\n",
    "    reobj = re.compile(r'data-detail-code=\"list_page\">([\\d\\D]*?)</a>[\\d\\D]*?<span>([\\d\\D])*?<i[\\d\\D]*?\\|</i>([\\d\\D]*?)<[\\d\\D]*?title=\"([\\d\\D]*?)>')\n",
    "    for match in reobj.finditer(html):\n",
    "        # match start: match.start()\n",
    "        # match end (exclusive): match.end()\n",
    "        # matched text: match.group()\n",
    "        a=match.group(1)\n",
    "        b=match.group(2)\n",
    "        c=match.group(3)\n",
    "        d=match.group(4)\n",
    "        t=(a,b,c,d)\n",
    "        list.append(t)\n",
    "    driver.find_element_by_link_text(u\"下一页>\").click()\n",
    "    time.sleep(2)\n",
    "    print(list)"
   ]
  },
  {
   "cell_type": "code",
   "execution_count": null,
   "metadata": {},
   "outputs": [],
   "source": []
  },
  {
   "cell_type": "code",
   "execution_count": null,
   "metadata": {},
   "outputs": [],
   "source": []
  }
 ],
 "metadata": {
  "kernelspec": {
   "display_name": "Python 3",
   "language": "python",
   "name": "python3"
  },
  "language_info": {
   "codemirror_mode": {
    "name": "ipython",
    "version": 3
   },
   "file_extension": ".py",
   "mimetype": "text/x-python",
   "name": "python",
   "nbconvert_exporter": "python",
   "pygments_lexer": "ipython3",
   "version": "3.6.5"
  }
 },
 "nbformat": 4,
 "nbformat_minor": 2
}
