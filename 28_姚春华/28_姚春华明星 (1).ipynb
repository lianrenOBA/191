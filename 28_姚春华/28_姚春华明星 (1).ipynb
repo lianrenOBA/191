{
 "cells": [
  {
   "cell_type": "markdown",
   "metadata": {},
   "source": [
    "# 整体思路\n",
    "1、打开内地女明星网页\n",
    "2、获取女明星信息（姓名、链接、图片）\n",
    "3、循环获取\n",
    "4、CSV格式储存"
   ]
  },
  {
   "cell_type": "code",
   "execution_count": 2,
   "metadata": {},
   "outputs": [],
   "source": [
    "#打开明星网页\n",
    "from selenium import webdriver\n",
    "import re\n",
    "driver=webdriver.Chrome()\n",
    "url = 'https://www.baidu.com/s?wd=%E6%98%8E%E6%98%9F&rsv_spt=1&rsv_iqid=0xbe4b76860031fb66&issp=1&f=8&rsv_bp=1&rsv_idx=2&ie=utf-8&rqlang=&tn=baiduhome_pg&ch=&rsv_enter=1&rsv_dl=ib&inputT=2978'\n",
    "driver.get(url)"
   ]
  },
  {
   "cell_type": "code",
   "execution_count": 36,
   "metadata": {},
   "outputs": [],
   "source": [
    "#打开女明星，内地\n",
    "import time\n",
    "driver.find_element_by_xpath(\"//div[@id='1']/div/div/div/div[2]/p/span[4]\").click()\n",
    "time.sleep(1)\n",
    "driver.find_element_by_xpath(\"//div[@id='1']/div/div/div/div[2]/p[2]/span[3]\").click()\n",
    "time.sleep(1)"
   ]
  },
  {
   "cell_type": "code",
   "execution_count": null,
   "metadata": {},
   "outputs": [],
   "source": [
    "#循环抽取女明星姓名、链接、图片\n",
    "import re\n",
    "import time\n",
    "list1 = []\n",
    "while True:\n",
    "    html = driver.page_source\n",
    "    reobj = re.compile(r'</div><p class=\"op_exactqa_item_img\"><a href=\"([\\d\\D]*?)\" title=\"([\\d\\D]*?)\" target=\"_blank\"><img class=\"c-img c-img4\" src=\"([\\d\\D]*?)\">')\n",
    "    for match in reobj.finditer(html):\n",
    "        a = \"https://www.baidu.com\"+match.group(1)\n",
    "        b = match.group(2)\n",
    "        c = match.group(3)\n",
    "        list1.append((b,a,c))\n",
    "    reobj1 = re.compile(r'<span class=\"opui-page-next OP_LOG_BTN\"([\\d\\D]*?)>下一页</span>')\n",
    "    for match in reobj.finditer(html):\n",
    "        d = match.group(1)\n",
    "    if len(d)>10:\n",
    "        break\n",
    "    else:\n",
    "        driver.find_element_by_xpath(\"//div[@id='1']/div/div/div[2]/div[2]/p/span[6]\").click()\n",
    "        time.sleep(2)"
   ]
  },
  {
   "cell_type": "code",
   "execution_count": null,
   "metadata": {},
   "outputs": [],
   "source": [
    "#CSV格式储存\n",
    "import codecs\n",
    "f = codecs.open(r\"C:\\28 csv\",\"w\",\"utf_8_sig\")\n",
    "f.write(\"姓名，链接，图片\\n\")\n",
    "for i in list1:\n",
    "    f.write(i[0]+\",\"+i[1]+\",\"+i[2]+\",\"+\"\\n\")  \n",
    "f.close()"
   ]
  }
 ],
 "metadata": {
  "kernelspec": {
   "display_name": "Python 3",
   "language": "python",
   "name": "python3"
  },
  "language_info": {
   "codemirror_mode": {
    "name": "ipython",
    "version": 3
   },
   "file_extension": ".py",
   "mimetype": "text/x-python",
   "name": "python",
   "nbconvert_exporter": "python",
   "pygments_lexer": "ipython3",
   "version": "3.7.1"
  }
 },
 "nbformat": 4,
 "nbformat_minor": 4
}
