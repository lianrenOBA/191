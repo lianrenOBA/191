{
 "cells": [
  {
   "cell_type": "markdown",
   "metadata": {},
   "source": [
    "# 整体思路\n",
    "1、循环打开百腾题库两个网页\n",
    "2、抽取列表页信息（标号、网址、标题、分数、通过数、提交分、通过率）\n",
    "3、CSV格式储存"
   ]
  },
  {
   "cell_type": "code",
   "execution_count": null,
   "metadata": {},
   "outputs": [],
   "source": [
    "#循环打开两个网页\n",
    "urls = [(\"https://pintia.cn/problem-sets/1111652100718116864/problems/type/6\",\"函数题\"),\n",
    "       (\"https://pintia.cn/problem-sets/1111652100718116864/problems/type/7\",\"函数题\")]\n",
    "\n",
    "import re,time\n",
    "from selenium import webdriver\n",
    "driver = webdriver.Chrome()\n",
    "\n",
    "def get_html(url):\n",
    "    driver.get(url)\n",
    "    time.sleep(5)\n",
    "    html = driver.page_source\n",
    "    return html\n",
    "\n",
    "for t in urls:\n",
    "    url,category = t\n",
    "    html = get_html(url)\n"
   ]
  },
  {
   "cell_type": "code",
   "execution_count": null,
   "metadata": {},
   "outputs": [],
   "source": [
    "#正则抽取信息，用了函数\n",
    "results=[]\n",
    "def extract_list_info(html,t):\n",
    "    reobj = re.compile(r'<tr><td class=\"answerIcon_1du7d\"></td><td>([\\d\\D]*?)</td><td><a href=\"([\\d\\D]*?)\" class=\"\">([\\d\\D]*?)</a></td><td>([\\d\\D]*?)</td><td>([\\d\\D]*?)</td><td>([\\d\\D]*?)</td><td>([\\d\\D]*?)</td></tr>')\n",
    "    for match in reobj.finditer(url):\n",
    "        a = match.group(1)#标号\n",
    "        b = match.group(2)#网址\n",
    "        b= \"https://pintia.cn\" + b\n",
    "        c = match.group(3)#标题\n",
    "        d = match.group(4)#分数\n",
    "        e = match.group(5)#通过数\n",
    "        f = match.group(6)#提交分\n",
    "        g = match.group(7)#通过率\n",
    "        h = (a,b,c,d,e,f,g)\n",
    "        results.append(h)\n",
    "print(results)"
   ]
  },
  {
   "cell_type": "code",
   "execution_count": null,
   "metadata": {},
   "outputs": [],
   "source": [
    "#信息存储\n",
    "import codecs\n",
    "f = codecs.open(\"D:\\\\百腾题库.csv\",\"w\",\"utf-8-sig\")             \n",
    "for i in results:\n",
    "    f.write(\",\".join(i)+\"\\n\")\n",
    "f.close()"
   ]
  }
 ],
 "metadata": {
  "kernelspec": {
   "display_name": "Python 3",
   "language": "python",
   "name": "python3"
  },
  "language_info": {
   "codemirror_mode": {
    "name": "ipython",
    "version": 3
   },
   "file_extension": ".py",
   "mimetype": "text/x-python",
   "name": "python",
   "nbconvert_exporter": "python",
   "pygments_lexer": "ipython3",
   "version": "3.7.1"
  }
 },
 "nbformat": 4,
 "nbformat_minor": 4
}
