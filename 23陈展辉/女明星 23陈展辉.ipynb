{
 "cells": [
  {
   "cell_type": "markdown",
   "metadata": {},
   "source": [
    "# 引入模块，打开明星网址"
   ]
  },
  {
   "cell_type": "code",
   "execution_count": null,
   "metadata": {},
   "outputs": [],
   "source": [
    "from selenium import webdriver\n",
    "import time\n",
    "import re\n",
    "import codecs\n",
    "driver=webdriver.Chrome()\n",
    "url = 'https://www.baidu.com/s?ie=utf-8&f=8&rsv_bp=1&rsv_idx=2&tn=baiduhome_pg&wd=%E6%98%8E%E6%98%9F&rsv_spt=1&oq=%25E6%2598%258E%25E6%2598%259F&rsv_pq=b3b20b9d0008adb7&rsv_t=6d8e54mTlJSgBzl0K5t2MlZxRuE%2BV7xPrnG6GBnfxV8ZifC%2F1o8k4GJC4ei0TghaM%2FWI&rqlang=cn&rsv_enter=0&rsv_dl=tb&rsv_sug3=1&rsv_sug1=1&rsv_sug7=100&prefixsug=%25E6%2598%258E%25E6%2598%259F&rsp=0&rsv_sug4=1518'\n",
    "driver.get(url)"
   ]
  },
  {
   "cell_type": "markdown",
   "metadata": {},
   "source": [
    "# 设置等待时间，模拟点击下一页"
   ]
  },
  {
   "cell_type": "code",
   "execution_count": null,
   "metadata": {},
   "outputs": [],
   "source": [
    "time.sleep(5)\n",
    "driver.find_element_by_xpath(\"//div[@id='1']/div/div/div/div[2]/p/span[4]\").click()\n",
    "time.sleep(2)\n",
    "driver.find_element_by_xpath(\"//div[@id='1']/div/div/div/div[2]/p[2]/span[3]\").click()\n",
    "time.sleep(1)"
   ]
  },
  {
   "cell_type": "markdown",
   "metadata": {},
   "source": [
    "# 引用正则"
   ]
  },
  {
   "cell_type": "code",
   "execution_count": null,
   "metadata": {},
   "outputs": [],
   "source": [
    "html = driver.page_source\n",
    "reobj = re.compile(r'<div class=\"c-border\">[\\d\\D]*?下一页[\\d\\D]*?</div>', re.MULTILINE)\n",
    "for match in reobj.finditer(html):\n",
    "    match.group(0)\n",
    "result=[]"
   ]
  },
  {
   "cell_type": "markdown",
   "metadata": {},
   "source": [
    "# 导入正则代码，设置有下一页点击下一页，没有下一页结束"
   ]
  },
  {
   "cell_type": "code",
   "execution_count": null,
   "metadata": {},
   "outputs": [],
   "source": [
    "while True:\n",
    "        html = driver.page_source\n",
    "        reobj = re.compile(r'<p class=\"op_exactqa_item_img\"><a href=\"/s[\\d\\D]*?title=\"([\\d\\D]*?)\"[\\d\\D]*?<img class=\"c-img c-img4\" src=\"([\\s\\S]*?)\"[\\d\\D]*?<p class=\"c-gap-top-small\"><a href=\"([\\d\\D]*?)\"', re.MULTILINE)\n",
    "        for match in reobj.finditer(html):\n",
    "            q=match.group(1)\n",
    "            w=match.group(2)\n",
    "            e=match.group(3)\n",
    "            t=(q,w,e)\n",
    "            result.append(t)\n",
    "        time.sleep(3)\n",
    "        html = driver.page_source\n",
    "        if re.compile('<span class=\"opui-page-next OP_LOG_BTN\" style=\"\">下一页</span>', re.MULTILINE):#下一页\n",
    "            driver.find_element_by_xpath(\"//div[@id='1']/div/div/div[2]/div[2]/p/span[6]\").click()#没有下一页\n",
    "        else:\n",
    "            break"
   ]
  },
  {
   "cell_type": "markdown",
   "metadata": {},
   "source": [
    "# 以csv格式储存到D盘"
   ]
  },
  {
   "cell_type": "code",
   "execution_count": null,
   "metadata": {},
   "outputs": [],
   "source": [
    "import codecs\n",
    "f = codecs.open(r\"D:女明星.csv\",\"w\",\"utf-8-sig\")\n",
    "for i in result:\n",
    "    f.write(\",\".join(i)+\"\\n\")\n",
    "f.close()"
   ]
  }
 ],
 "metadata": {
  "kernelspec": {
   "display_name": "Python 3",
   "language": "python",
   "name": "python3"
  },
  "language_info": {
   "codemirror_mode": {
    "name": "ipython",
    "version": 3
   },
   "file_extension": ".py",
   "mimetype": "text/x-python",
   "name": "python",
   "nbconvert_exporter": "python",
   "pygments_lexer": "ipython3",
   "version": "3.7.1"
  }
 },
 "nbformat": 4,
 "nbformat_minor": 2
}
