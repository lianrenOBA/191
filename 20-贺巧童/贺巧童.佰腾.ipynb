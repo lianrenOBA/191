{
 "cells": [
  {
   "cell_type": "markdown",
   "metadata": {},
   "source": [
    "# 任务要求"
   ]
  },
  {
   "cell_type": "code",
   "execution_count": null,
   "metadata": {},
   "outputs": [],
   "source": [
    "#1）存储所有要采集页面的完整html\n",
    "#2）编写代码完成数据的抽取\n",
    "#3）设计数据库表结构（包括标号、标题、分数、通过数、提交数、通过率、题目内容、完整html、题型（编程题 、函数题），题目详情页链接）\n",
    "#4）存储到sqlite数据库中"
   ]
  },
  {
   "cell_type": "code",
   "execution_count": 3,
   "metadata": {},
   "outputs": [],
   "source": [
    "import time,re\n",
    "from selenium import webdriver\n",
    "driver=webdriver.Chrome()\n",
    "url = \"https://pintia.cn/problem-sets/1111652100718116864/problems/type/6\"\n",
    "driver.get(url)"
   ]
  },
  {
   "cell_type": "code",
   "execution_count": null,
   "metadata": {},
   "outputs": [],
   "source": [
    "from pony.orm import *\n",
    "db = Database()\n",
    "class Topic(db.Entity):\n",
    "    tab = PrimaryKey(str, column='tab', auto=True)\n",
    "    Title = Optional(str, column='Title')\n",
    "    grade = Optional(int, column='grade')\n",
    "    Pass = Optional(int, column='Pass')\n",
    "    Submit = Optional(int, column='Submit')\n",
    "    Pass_Rate = Optional(str, column='Pass_Rate')\n",
    "    html = Optional(str, column='html')\n",
    "    Questions = Optional(str, column='Questions')\n",
    "    tab_url = Optional(str, column='taburl')\n"
   ]
  },
  {
   "cell_type": "code",
   "execution_count": null,
   "metadata": {},
   "outputs": [],
   "source": [
    "db.bind(provider='sqlite', filename='E:/python/5.sqlite')\n",
    "db.generate_mapping(create_tables=True)\n",
    "set_sql_debug(True)"
   ]
  },
  {
   "cell_type": "code",
   "execution_count": null,
   "metadata": {},
   "outputs": [],
   "source": [
    "def New_html(url):\n",
    "    dr=webdriver.Chrome()\n",
    "    dr.get(url)\n",
    "    html = dr.page_source\n",
    "    time.sleep(3)\n",
    "    dr.close()\n",
    "    return html"
   ]
  },
  {
   "cell_type": "code",
   "execution_count": null,
   "metadata": {},
   "outputs": [],
   "source": [
    "def total(n):\n",
    "    Questions=\"函数题\"\n",
    "    reobj = re.compile(r'<td class=\"answerIcon_1du7d\"></td><td>([\\d\\D]*?)</td><td><a href=\"([\\d\\D]*?)\"[\\d\\D]*?>([\\d\\D]*?)</a></td><td>([\\d\\D]*?)</td><td>([\\d\\D]*?)</td><td>([\\d\\D]*?)</td><td>([\\d\\D]*?)<')\n",
    "    for match in reobj.finditer(n):\n",
    "        tab=match.group(1)\n",
    "        Title=match.group(3)\n",
    "        grade=match.group(4)\n",
    "        Pass=match.group(5)\n",
    "        Submit=match.group(6)\n",
    "        Pass_Rate=match.group(7)\n",
    "        tab_url=\"https://pintia.cn\"+match.group(2)\n",
    "        html=New_html(tab_url)\n",
    "        s = Topic(tab = tab,Title = Title,grade=grade,Pass=Pass,Submit=Submit,Pass_Rate=Pass_Rate,html=html,Questions=Questions,tab_url=tab_url)\n",
    "        db.commit()"
   ]
  },
  {
   "cell_type": "code",
   "execution_count": null,
   "metadata": {},
   "outputs": [],
   "source": [
    "total(driver.page_source)\n",
    "driver.find_element_by_xpath(\"//div[@id='sparkling-daydream']/div[3]/div[3]/div/ul/li[2]/a/div\").click()\n",
    "total(driver.page_source)"
   ]
  }
 ],
 "metadata": {
  "kernelspec": {
   "display_name": "Python 3",
   "language": "python",
   "name": "python3"
  },
  "language_info": {
   "codemirror_mode": {
    "name": "ipython",
    "version": 3
   },
   "file_extension": ".py",
   "mimetype": "text/x-python",
   "name": "python",
   "nbconvert_exporter": "python",
   "pygments_lexer": "ipython3",
   "version": "3.7.4"
  }
 },
 "nbformat": 4,
 "nbformat_minor": 2
}
