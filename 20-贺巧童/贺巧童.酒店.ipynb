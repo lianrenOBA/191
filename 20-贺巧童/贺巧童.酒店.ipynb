{
 "cells": [
  {
   "cell_type": "markdown",
   "metadata": {},
   "source": [
    "# 任务：采集百度地图酒店的标题、链接、摘要，采集1000条以上，并保存成CSV格式"
   ]
  },
  {
   "cell_type": "code",
   "execution_count": 22,
   "metadata": {},
   "outputs": [],
   "source": [
    "import time,re #引入模块\n",
    "from selenium import webdriver\n",
    "driver=webdriver.Chrome()\n",
    "url = 'https://map.baidu.com/search/%E9%85%92%E5%BA%97/@13401816.6,3523321.62,17z?querytype=nb&r=1000&wd=%E9%85%92%E5%BA%97&nb_x=13401816.60&nb_y=3523321.62&uid=7a0cb8c0d67a634683a00c28&b=(13400809.909611505,3522782.19066226;13402823.09336229,3524093.869264365)&l=17&gr_radius=1000&pn=0&device_ratio=2&da_src=shareurl'\n",
    "driver.get(url)"
   ]
  },
  {
   "cell_type": "code",
   "execution_count": null,
   "metadata": {},
   "outputs": [],
   "source": [
    "result=[]\n",
    "while True:\n",
    "    html=driver.page_source #获取网页源代码\n",
    "    reobj=re.compile(r'\"list_page\">([\\d\\D]*?)</a>[\\d\\D]*?<span>[\\d\\D]*?<i class=\"seperate\">[|]</i>([\\d\\D]*?)</span>[\\d\\D]*?<span class=\"n-grey\" title=\"([\\d\\D]*?)</span>')\n",
    "#正则抽取\n",
    "for match in reobj.finditer(html):\n",
    "    b=match.group(1)\n",
    "    c=match.group(2)\n",
    "    d=match.group(3)\n",
    "    a=(b,c,d)\n",
    "    result.append(a)\n",
    "driver.find_element_by_link_text(u\"下一页>\").click() #点击下一页\n",
    "time.sleep(2)"
   ]
  },
  {
   "cell_type": "code",
   "execution_count": 19,
   "metadata": {},
   "outputs": [],
   "source": [
    "import codecs\n",
    "f = codecs.open(r\"c:\\hhh.csv\",\"w\",\"utf_8_sig\")\n",
    "f.write(\"酒店名称,评分,类型 ,地址\\n\")\n",
    "for i in result:\n",
    "    f.write(','.join(i)+'\\n')\n",
    "f.close()"
   ]
  }
 ],
 "metadata": {
  "kernelspec": {
   "display_name": "Python 3",
   "language": "python",
   "name": "python3"
  },
  "language_info": {
   "codemirror_mode": {
    "name": "ipython",
    "version": 3
   },
   "file_extension": ".py",
   "mimetype": "text/x-python",
   "name": "python",
   "nbconvert_exporter": "python",
   "pygments_lexer": "ipython3",
   "version": "3.6.5"
  }
 },
 "nbformat": 4,
 "nbformat_minor": 2
}
