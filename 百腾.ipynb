{
 "cells": [
  {
   "cell_type": "code",
   "execution_count": 11,
   "metadata": {},
   "outputs": [],
   "source": [
    "urls = [(\"https://pintia.cn/problem-sets/1111652100718116864/problems/type/6\",\"函数题\"),\n",
    "        (\"https://pintia.cn/problem-sets/1111652100718116864/problems/type/7\",\"编程题\")]\n",
    "from selenium import webdriver\n",
    "import re,time\n",
    "driver = webdriver.Chrome()\n",
    "\n",
    "def get_html(url):\n",
    "    driver.get(url)\n",
    "    time.sleep(5)#缓冲5秒\n",
    "    html = driver.page_source#获取源代码\n",
    "    return html\n",
    "\n",
    "def extract_list_info(html,category):\n",
    "    \"\"\"抽取列表页的信息\"\"\"\n",
    "    result = []\n",
    "    reobj = re.compile(r'<tr><td class=\"answerIcon_1du7d\"></td><td>([\\d\\D]*?)</td><td><a href=\"([\\d\\D]*?)\" class=\"\">([\\d\\D]*?)</a></td><td>([\\d\\D]*?)</td><td>([\\d\\D]*?)</td><td>([\\d\\D]*?)</td><td>([\\d\\D]*?)</td></tr>')\n",
    "    for match in reobj.finditer(html):#获取列表页的标号、链接、标题、分数、通过数、提交数、通过率\n",
    "        biaohao = match.group(1)\n",
    "        lianjie = \"https://pintia.cn/\" + match.group(2)\n",
    "        biaoti = match.group(3)\n",
    "        fenshu = match.group(4)\n",
    "        tongguoshu = match.group(5)\n",
    "        tijiaoshu = match.group(6)\n",
    "        tongguolv = match.group(7)\n",
    "        result.append((category,biaohao,lianjie,biaoti,fenshu,tongguoshu,tijiaoshu,tongguolv))\n",
    "    return result#返回元组列表\n",
    "\n",
    "results = []\n",
    "for i,k in urls:\n",
    "    list1 = []\n",
    "    html = get_html(i)\n",
    "    list1 = extract_list_info(html,k)\n",
    "    results.extend(list1)\n",
    "\n",
    "import codecs\n",
    "f = codecs.open(r\"D:\\baiteng.csv\",\"w\",\"utf-8-sig\")\n",
    "f.write(\"标号,链接,标题,分数,通过数,提交数,通过率\\n\")\n",
    "for i in  results:#不需要-1\n",
    "    f.write(i[0]+\",\"+i[1]+\",\"+i[2]+\",\"+i[3]+\",\"+i[4]+\",\"+i[5]+\",\"+i[6]+\",\"+i[7]+\"\\n\")\n",
    "f.close()"
   ]
  },
  {
   "cell_type": "code",
   "execution_count": null,
   "metadata": {},
   "outputs": [],
   "source": []
  }
 ],
 "metadata": {
  "kernelspec": {
   "display_name": "Python 3",
   "language": "python",
   "name": "python3"
  },
  "language_info": {
   "codemirror_mode": {
    "name": "ipython",
    "version": 3
   },
   "file_extension": ".py",
   "mimetype": "text/x-python",
   "name": "python",
   "nbconvert_exporter": "python",
   "pygments_lexer": "ipython3",
   "version": "3.6.5"
  }
 },
 "nbformat": 4,
 "nbformat_minor": 2
}
