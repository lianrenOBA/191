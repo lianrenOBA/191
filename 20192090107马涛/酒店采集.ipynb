{
 "cells": [
  {
   "cell_type": "code",
   "execution_count": 11,
   "metadata": {},
   "outputs": [],
   "source": [
    "from selenium import webdriver\n",
    "driver=webdriver.Chrome()\n",
    "url = 'https://map.baidu.com/search/%E6%B5%99%E6%B1%9F%E7%BB%8F%E8%B4%B8%E8%81%8C%E4%B8%9A%E6%8A%80%E6%9C%AF%E5%AD%A6%E9%99%A2%E9%99%84%E8%BF%91%E9%85%92%E5%BA%97/@13401816.6,3523321.62,15z?querytype=s&c=179&wd=%E6%B5%99%E6%B1%9F%E7%BB%8F%E8%B4%B8%E8%81%8C%E4%B8%9A%E6%8A%80%E6%9C%AF%E5%AD%A6%E9%99%A2%E9%99%84%E8%BF%91%E9%85%92%E5%BA%97&da_src=shareurl&on_gel=1&l=15&gr=1&b=(13395616.6,3520273.62;13408016.6,3526369.62)&pl_data_type=hotel&pl_sub_type=%E9%85%92%E5%BA%97&pl_price_section=0,%2B&pl_sort_type=default&pl_sort_rule=0&pl_discount2_section=0,%2B&pl_groupon_section=0,%2B&pl_cater_book_pc_section=0,%2B&pl_hotel_book_pc_section=0,%2B&pl_ticket_book_flag_section=0,%2B&pl_movie_book_section=0,%2B&pl_business_type=hotel&pn=0&device_ratio=2'\n",
    "driver.get(url)\n",
    "\n",
    "\n",
    "import re,time\n",
    "list = []\n",
    "html = driver.page_source # 获取网页的源代码\n",
    "print(\"酒店名称\",\",评分：\",\",类型：\"\",地址：\")  # 需要提取的四个方面信息\n",
    "for i in range(2):\n",
    "    html = driver.page_source\n",
    "reobj = re.compile(r'list_page\">([\\d\\D]*?)</a>[\\d\\D]*?<span>([\\d\\D]*?)<i[\\d\\D]*?\\|</i>([\\d\\D]*?)                </span[\\d\\D]*?title=\"([\\d\\D]*?)\">')\n",
    "for match in reobj.finditer(html):  \n",
    "    a=match.group(1)\n",
    "    b=match.group(2)\n",
    "    c=match.group(3)\n",
    "    d=match.group(4)\n",
    "    z = (a,b,c,d)\n",
    "    print(z)\n",
    "    list.append(z)\n",
    "    driver.find_element_by_link_text(u\"下一页>\").click()\n",
    "    time.sleep(2)\n",
    "    print(list)\n",
    "    \n",
    "    "
   ]
  },
  {
   "cell_type": "code",
   "execution_count": null,
   "metadata": {},
   "outputs": [],
   "source": []
  },
  {
   "cell_type": "code",
   "execution_count": null,
   "metadata": {},
   "outputs": [],
   "source": []
  }
 ],
 "metadata": {
  "kernelspec": {
   "display_name": "Python 3",
   "language": "python",
   "name": "python3"
  },
  "language_info": {
   "codemirror_mode": {
    "name": "ipython",
    "version": 3
   },
   "file_extension": ".py",
   "mimetype": "text/x-python",
   "name": "python",
   "nbconvert_exporter": "python",
   "pygments_lexer": "ipython3",
   "version": "3.7.4"
  }
 },
 "nbformat": 4,
 "nbformat_minor": 2
}
