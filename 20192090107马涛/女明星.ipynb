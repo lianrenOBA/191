{
 "cells": [
  {
   "cell_type": "code",
   "execution_count": 9,
   "metadata": {},
   "outputs": [],
   "source": [
    "import re,time\n",
    "from selenium import webdriver #打开网页\n",
    "driver=webdriver.Chrome()\n",
    "url = 'https://www.baidu.com/s?wd=%E6%98%8E%E6%98%9F&ie=utf-8&tn=78040160_14_pg&ch=16'\n",
    "driver.get(url)\n",
    "\n",
    "driver.find_element_by_xpath(\"//div[@id='1']/div/div/div/div[2]/p/span[4]\").click()\n",
    "time.sleep(1)\n",
    "driver.find_element_by_xpath(\"//div[@id='1']/div/div/div/div[2]/p[2]/span[3]\").click()\n",
    "\n",
    "list1= []\n",
    "while True:\n",
    "    html = driver.page_source # 获取网页源代码 \n",
    "    reobj1=re.compile('<span class=\"opui-page-next OP_LOG_BTN\" style=([\\d\\D]*?)>下一页</span>')\n",
    "    for match in reobj1.finditer(html):\n",
    "        q = match.group(1)\n",
    "        print(q)\n",
    "        reobj = re.compile(r'<p class=\"op_exactqa_item_img\"><a href=\"([\\d\\D]*?)\" title=\"([\\d\\D]*?)\" target=\"_blank\"><img class=\"c-img c-img4\" src=\"([\\d\\D]*?)\"></a></p><p class=\"c-gap-top-small\"><a ')\n",
    "        for match in reobj.finditer(html):\n",
    "            a='https://www.baidu.com'+ match.group(1)\n",
    "            b=match.group(2)\n",
    "            c=match.group(3)\n",
    "            print(b,c,a)\n",
    "            list.append((b,c,a))\n",
    "        if q=='\"display: none;\"':  \n",
    "            break\n",
    "        driver.find_element_by_xpath(\"//div[@id='1']/div/div/div[2]/div[2]/p/span[6]\").click() \n",
    "        time.sleep(2)\n",
    "        \n",
    "import codecs\n",
    "f = codecs.open(r\"D:\\nvming.csv\",\"w\",\"utf-8-sig\")\n",
    "f.write(\"姓名,照片,网址\\n\")\n",
    "for q in list1:\n",
    "    f.write(q[0]+\",\"+q[1]+\",\"+q[2]+\",\"+q[3]+\"\\n\")\n",
    "f.close()"
   ]
  },
  {
   "cell_type": "code",
   "execution_count": null,
   "metadata": {},
   "outputs": [],
   "source": []
  }
 ],
 "metadata": {
  "kernelspec": {
   "display_name": "Python 3",
   "language": "python",
   "name": "python3"
  },
  "language_info": {
   "codemirror_mode": {
    "name": "ipython",
    "version": 3
   },
   "file_extension": ".py",
   "mimetype": "text/x-python",
   "name": "python",
   "nbconvert_exporter": "python",
   "pygments_lexer": "ipython3",
   "version": "3.7.4"
  }
 },
 "nbformat": 4,
 "nbformat_minor": 2
}
