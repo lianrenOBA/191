{
 "cells": [
  {
   "cell_type": "code",
   "execution_count": 2,
   "metadata": {},
   "outputs": [],
   "source": [
    "from selenium import webdriver\n",
    "import re\n",
    "driver=webdriver.Chrome()\n",
    "driver.get(url)"
   ]
  },
  {
   "cell_type": "code",
   "execution_count": 6,
   "metadata": {},
   "outputs": [],
   "source": [
    "urls = [(\"https://pintia.cn/problem-sets/1111652100718116864/problems/type/6\",\"编程题\"),\n",
    "        (\"https://pintia.cn/problem-sets/1111652100718116864/problems/type/7\",\"函数题\")]  # 两个网址\n",
    "from selenium import webdriver\n",
    "import re,time\n",
    "driver = webdriver.Chrome()\n",
    "\n",
    "def get_html(url):\n",
    "    driver.get(url)\n",
    "    time.sleep(7)\n",
    "    html = driver.page_source  # 获取网页源代码\n",
    "    return html\n",
    "\n",
    "def extract_info(html,category):\n",
    "    import re\n",
    "    results=[]\n",
    "    reobj = re.compile(r'<td>([\\d\\D]*?)</td><td><a href=\"([\\d\\D]*?)\" class=\"\">([\\d\\D]*?)</a>[\\d\\D]*?<td>([\\d\\D]*?)</td>[\\d\\D]*?<td>([\\d\\D]*?)</td>[\\d\\D]*?<td>([\\d\\D]*?)</td><td>([\\d\\D]*?)</td>')\n",
    "    for match in reobj.finditer(html):\n",
    "        a=match.group(1)\n",
    "        b=match.group(2)\n",
    "        b=\"https://pintia.cn\" + b\n",
    "        c=match.group(3)\n",
    "        d=match.group(4)\n",
    "        e=match.group(5)\n",
    "        f=match.group(6)\n",
    "        g=match.group(7)\n",
    "        print(\"标号:\",a,\"url:\",b,\"标题:\",c,\"分数:\",d,\"通过数:\",e,\"提交数:\",f,\"通过率:\",g,category)\n",
    "        results.append([category,a,b,c,d,e,f,g])\n",
    "    return results\n",
    "\n",
    "results = []\n",
    "for t in urls:\n",
    "    url , category = t\n",
    "    html = get_html(url)\n",
    "    li  = extract_info(html,category)\n",
    "    for elem in li:\n",
    "        results.append(elem)\n",
    "#print(results)"
   ]
  },
  {
   "cell_type": "code",
   "execution_count": null,
   "metadata": {},
   "outputs": [],
   "source": []
  }
 ],
 "metadata": {
  "kernelspec": {
   "display_name": "Python 3",
   "language": "python",
   "name": "python3"
  },
  "language_info": {
   "codemirror_mode": {
    "name": "ipython",
    "version": 3
   },
   "file_extension": ".py",
   "mimetype": "text/x-python",
   "name": "python",
   "nbconvert_exporter": "python",
   "pygments_lexer": "ipython3",
   "version": "3.7.4"
  }
 },
 "nbformat": 4,
 "nbformat_minor": 2
}
