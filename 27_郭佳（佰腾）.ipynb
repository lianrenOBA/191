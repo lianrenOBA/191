{
 "cells": [
  {
   "cell_type": "code",
   "execution_count": 1,
   "metadata": {},
   "outputs": [
    {
     "ename": "ModuleNotFoundError",
     "evalue": "No module named 'selenium'",
     "output_type": "error",
     "traceback": [
      "\u001b[1;31m---------------------------------------------------------------------------\u001b[0m",
      "\u001b[1;31mModuleNotFoundError\u001b[0m                       Traceback (most recent call last)",
      "\u001b[1;32m<ipython-input-1-b8a258e3b916>\u001b[0m in \u001b[0;36m<module>\u001b[1;34m()\u001b[0m\n\u001b[0;32m      1\u001b[0m \u001b[1;32mimport\u001b[0m \u001b[0mre\u001b[0m\u001b[1;33m,\u001b[0m\u001b[0mtime\u001b[0m\u001b[1;33m\u001b[0m\u001b[0m\n\u001b[1;32m----> 2\u001b[1;33m \u001b[1;32mfrom\u001b[0m \u001b[0mselenium\u001b[0m \u001b[1;32mimport\u001b[0m \u001b[0mwebdriver\u001b[0m\u001b[1;33m\u001b[0m\u001b[0m\n\u001b[0m\u001b[0;32m      3\u001b[0m \u001b[0mdriver\u001b[0m\u001b[1;33m=\u001b[0m\u001b[0mwebdriver\u001b[0m\u001b[1;33m.\u001b[0m\u001b[0mChrome\u001b[0m\u001b[1;33m(\u001b[0m\u001b[1;33m)\u001b[0m\u001b[1;33m\u001b[0m\u001b[0m\n",
      "\u001b[1;31mModuleNotFoundError\u001b[0m: No module named 'selenium'"
     ]
    }
   ],
   "source": [
    "import re,time\n",
    "from selenium import webdriver\n",
    "driver=webdriver.Chrome()"
   ]
  },
  {
   "cell_type": "code",
   "execution_count": 2,
   "metadata": {},
   "outputs": [],
   "source": [
    "def get_html(url):\n",
    "    driver.get(url)\n",
    "    time.sleep(2)\n",
    "    html=driver.page_source\n",
    "    return html"
   ]
  },
  {
   "cell_type": "code",
   "execution_count": null,
   "metadata": {},
   "outputs": [],
   "source": [
    "def get_lianjie(html):\n",
    "    list1=[]\n",
    "    list2=[]\n",
    "    reobj = re.compile(r'<td><a href=\"([\\d\\D]*?)\"')\n",
    "    for match in reobj.finditer(html):\n",
    "        lianjie=match.group(1)\n",
    "        list1.append(lianjie)\n",
    "    for i in list1:\n",
    "        t=\"https://pintia.cn\"+i\n",
    "        list2.append(t)\n",
    "    return list2"
   ]
  },
  {
   "cell_type": "code",
   "execution_count": 3,
   "metadata": {},
   "outputs": [],
   "source": [
    "def get_biaohao(html):\n",
    "    list3=[]\n",
    "    reobj = re.compile(r\"<td>([\\d\\D]*?)</td>\")\n",
    "    for match in reobj.finditer(html):\n",
    "        biaohao=match.group(1)\n",
    "        list3.append(biaohao)\n",
    "    return list3"
   ]
  },
  {
   "cell_type": "code",
   "execution_count": 6,
   "metadata": {},
   "outputs": [],
   "source": [
    "def get_biaoti(html):\n",
    "    list4=[]\n",
    "    reobj = re.compile(r\"<a href=\"([\\d\\D]*?)\" class=\"\">([\\d\\D]*?)</a>\")\n",
    "    for match in reobj.finditer(html):\n",
    "        bt=match.group(1)\n",
    "        list4.append(biaoti)\n",
    "    return list4"
   ]
  },
  {
   "cell_type": "code",
   "execution_count": 7,
   "metadata": {},
   "outputs": [],
   "source": [
    "def get_fenshu(html):\n",
    "    list5=[]\n",
    "    reobj = re.compile(r\"</a></td><td>([\\d\\D]*?)</td>\")\n",
    "    for match in reobj.finditer(html):\n",
    "        fs=match.group(1)\n",
    "        list5.append(fenshu)\n",
    "    return list5"
   ]
  },
  {
   "cell_type": "code",
   "execution_count": 8,
   "metadata": {},
   "outputs": [],
   "source": [
    "\n",
    "def get_tgs(html):\n",
    "    list6=[]\n",
    "    reobj = re.compile(r\"</a></td><td>[\\d\\D]*?</td><td>([\\d\\D]*?)</td>\")\n",
    "    for match in reobj.finditer(html):\n",
    "        tgl=match.group(1)\n",
    "        list6.append(tgl)\n",
    "    return list6"
   ]
  },
  {
   "cell_type": "code",
   "execution_count": 9,
   "metadata": {},
   "outputs": [],
   "source": [
    "def get_tjs(html):\n",
    "    list7=[]\n",
    "    reobj = re.compile(r\"</a></td><td>[\\d\\D]*?</td><td>[\\d\\D]*?</td><td>([\\d\\D]*?)</td>\")\n",
    "    for match in reobj.finditer(html):\n",
    "        tjs=match.group(1)\n",
    "        list7.append(tjs)\n",
    "    return list7"
   ]
  },
  {
   "cell_type": "code",
   "execution_count": 10,
   "metadata": {},
   "outputs": [],
   "source": [
    "def get_tgl(html):\n",
    "    list8=[]\n",
    "    reobj = re.compile(r\"</a></td><td>[\\d\\D]*?</td><td>[\\d\\D]*?</td><td>[\\d\\D]*?</td><td>([\\d\\D]*?)</td></tr>\")\n",
    "    for match in reobj.finditer(html):\n",
    "        tgl=match.group(1)\n",
    "        list8.append(tgl)\n",
    "    return list8"
   ]
  },
  {
   "cell_type": "code",
   "execution_count": 13,
   "metadata": {},
   "outputs": [
    {
     "name": "stdout",
     "output_type": "stream",
     "text": [
      "OK\n"
     ]
    }
   ],
   "source": [
    "urls = [(\"https://pintia.cn/problem-sets/1111652100718116864/problems/type/6\",\"函数题\"),(\"https://pintia.cn/problem-sets/1111652100718116864/problems/type/7\",\"编程题\")]\n",
    "result=[]\n",
    "for url,category in urls:\n",
    "    html=get_html(url)\n",
    "    lianjie=get_lianjie(html)\n",
    "    biaohao=get_biaohao(html)\n",
    "    biaoti=get_biaoti(html)\n",
    "    fenshu=get_fenshu(html)\n",
    "    tgs=get_tgs(html)\n",
    "    tjs=get_tjs(html)\n",
    "    tgl=get_tgl(html)\n",
    "    for a,b,c,d,e,f,g in zip(lianjie,biaohao,biaoti,fenshu,tgs,tjs,tgl):\n",
    "        t=(category,a,b,c,d,e,f,g)\n",
    "        result.append(t)\n",
    "print(\"OK\")"
   ]
  }
 ],
 "metadata": {
  "kernelspec": {
   "display_name": "Python 3",
   "language": "python",
   "name": "python3"
  },
  "language_info": {
   "codemirror_mode": {
    "name": "ipython",
    "version": 3
   },
   "file_extension": ".py",
   "mimetype": "text/x-python",
   "name": "python",
   "nbconvert_exporter": "python",
   "pygments_lexer": "ipython3",
   "version": "3.6.5"
  }
 },
 "nbformat": 4,
 "nbformat_minor": 2
}
