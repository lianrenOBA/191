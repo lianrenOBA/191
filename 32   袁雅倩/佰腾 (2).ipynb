{
 "cells": [
  {
   "cell_type": "code",
   "execution_count": 2,
   "metadata": {},
   "outputs": [],
   "source": [
    "urls = [(\"https：//pintia.cn/problem-sets/1111652100718116864/problems/type/6\" ,\"函数题\"),\n",
    "        (\"https：//pintia.cn/problem-sets/1111652100718116864/problems/type/7\" ,\"编程题\")]"
   ]
  },
  {
   "cell_type": "code",
   "execution_count": 3,
   "metadata": {},
   "outputs": [],
   "source": [
    "import re,time\n",
    "from selenium import webdriver\n",
    "driver=webdriver.Chrome()\n",
    "url = 'https://pintia.cn/problem-sets/1111652100718116864/problems/type/7'\n",
    "driver.get(url)"
   ]
  },
  {
   "cell_type": "code",
   "execution_count": 6,
   "metadata": {},
   "outputs": [
    {
     "name": "stdout",
     "output_type": "stream",
     "text": [
      "('第1章-1', 'http://pintia.cn/problem-sets/1111652100718116864/problems/1111653039147499521', '从键盘输入两个数，求它们的和并输出', '30', '4349', '11001', '0.40')\n",
      "('第1章-2', 'http://pintia.cn/problem-sets/1111652100718116864/problems/1111653039147499522', '从键盘输入三个数到a,b,c中，按公式值输出', '30', '3599', '14189', '0.25')\n",
      "('第1章-3', 'http://pintia.cn/problem-sets/1111652100718116864/problems/1111653039147499520', '输出“Python语言简单易学”', '10', '2923', '10268', '0.28')\n",
      "('第2章-1', 'http://pintia.cn/problem-sets/1111652100718116864/problems/1111653447408467981', '计算 11+12+13+...+m', '30', '3267', '13413', '0.24')\n",
      "('第2章-2', 'http://pintia.cn/problem-sets/1111652100718116864/problems/1111653447408467968', '计算分段函数[1]', '10', '2787', '11985', '0.23')\n",
      "('第2章-3', 'http://pintia.cn/problem-sets/1111652100718116864/problems/1111653447408467971', '阶梯电价', '15', '2394', '9729', '0.25')\n",
      "('第2章-4', 'http://pintia.cn/problem-sets/1111652100718116864/problems/1111653447408467975', '特殊a串数列求和', '20', '2360', '7829', '0.30')\n",
      "('第2章-5', 'http://pintia.cn/problem-sets/1111652100718116864/problems/1111653447408467970', '求奇数分之一序列前N项和', '15', '2094', '5799', '0.36')\n",
      "('第2章-6', 'http://pintia.cn/problem-sets/1111652100718116864/problems/1111653447408467973', '求交错序列前N项和', '15', '1946', '4517', '0.43')\n",
      "('第2章-7', 'http://pintia.cn/problem-sets/1111652100718116864/problems/1111653447408467980', '产生每位数字相同的n位数', '30', '2031', '5918', '0.34')\n",
      "('第2章-8', 'http://pintia.cn/problem-sets/1111652100718116864/problems/1111653447408467979', '转换函数使用', '30', '1902', '4021', '0.47')\n",
      "('第2章-9', 'http://pintia.cn/problem-sets/1111652100718116864/problems/1111653447408467974', '比较大小', '10', '1823', '5116', '0.36')\n",
      "('第2章-10', 'http://pintia.cn/problem-sets/1111652100718116864/problems/1111653447408467969', '输出华氏-摄氏温度转换表', '15', '1776', '8382', '0.21')\n",
      "('第2章-11', 'http://pintia.cn/problem-sets/1111652100718116864/problems/1111653447408467972', '求平方与倒数序列的部分和', '15', '1484', '2770', '0.54')\n",
      "('第2章-12', 'http://pintia.cn/problem-sets/1111652100718116864/problems/1111653447408467976', '输出三角形面积和周长', '15', '1564', '5227', '0.30')\n",
      "('第2章-13', 'http://pintia.cn/problem-sets/1111652100718116864/problems/1111653447408467977', '分段计算居民水费', '10', '1408', '2387', '0.59')\n",
      "('第2章-14', 'http://pintia.cn/problem-sets/1111652100718116864/problems/1111653447408467978', '求整数段和', '15', '1578', '6773', '0.23')\n",
      "('第3章-1', 'http://pintia.cn/problem-sets/1111652100718116864/problems/1163031535431180308', '3-1.大于身高的平均值', '10', '1504', '3143', '0.48')\n",
      "('第3章-2', 'http://pintia.cn/problem-sets/1111652100718116864/problems/1163031535431180309', '查验身份证', '15', '1196', '4452', '0.27')\n",
      "('第3章-3', 'http://pintia.cn/problem-sets/1111652100718116864/problems/1163031535431180307', '输出字母在字符串中位置索引', '20', '1296', '2280', '0.57')\n",
      "('第3章-4', 'http://pintia.cn/problem-sets/1111652100718116864/problems/1163031535431180288', '查找指定字符', '15', '1202', '2934', '0.41')\n",
      "('第3章-5', 'http://pintia.cn/problem-sets/1111652100718116864/problems/1163031535431180289', '字符转换', '15', '1229', '3391', '0.36')\n",
      "('第3章-6', 'http://pintia.cn/problem-sets/1111652100718116864/problems/1163031535431180290', '求整数序列中出现次数最多的数', '15', '1137', '3701', '0.31')\n",
      "('第3章-7', 'http://pintia.cn/problem-sets/1111652100718116864/problems/1163031535431180291', '求最大值及其下标', '20', '1096', '2403', '0.46')\n",
      "('第3章-8', 'http://pintia.cn/problem-sets/1111652100718116864/problems/1163031535431180292', '字符串逆序', '15', '1148', '1636', '0.70')\n",
      "('第3章-9', 'http://pintia.cn/problem-sets/1111652100718116864/problems/1163031535431180293', '字符串转换成十进制整数', '15', '935', '4524', '0.21')\n",
      "('第3章-10', 'http://pintia.cn/problem-sets/1111652100718116864/problems/1163031535431180294', '统计大写辅音字母', '15', '1011', '1830', '0.55')\n",
      "('第3章-11', 'http://pintia.cn/problem-sets/1111652100718116864/problems/1163031535431180295', '字符串排序', '20', '1046', '1653', '0.63')\n",
      "('第3章-12', 'http://pintia.cn/problem-sets/1111652100718116864/problems/1163031535431180296', '求整数的位数及各位数字之和', '15', '979', '1358', '0.72')\n",
      "('第3章-13', 'http://pintia.cn/problem-sets/1111652100718116864/problems/1163031535431180297', '字符串替换', '15', '942', '1635', '0.58')\n",
      "('第3章-14', 'http://pintia.cn/problem-sets/1111652100718116864/problems/1163031535431180298', '字符串字母大小写转换', '15', '980', '1770', '0.55')\n",
      "('第3章-15', 'http://pintia.cn/problem-sets/1111652100718116864/problems/1163031535431180299', '统计一行文本的单词个数', '15', '960', '1613', '0.60')\n",
      "('第3章-16', 'http://pintia.cn/problem-sets/1111652100718116864/problems/1163031535431180300', '删除重复字符', '20', '993', '1670', '0.59')\n",
      "('第3章-17', 'http://pintia.cn/problem-sets/1111652100718116864/problems/1163031535431180301', '删除字符', '30', '998', '4135', '0.24')\n",
      "('第3章-18', 'http://pintia.cn/problem-sets/1111652100718116864/problems/1163031535431180302', '输出10个不重复的英文字母', '30', '984', '2955', '0.33')\n",
      "('第3章-19', 'http://pintia.cn/problem-sets/1111652100718116864/problems/1163031535431180303', '找最长的字符串', '15', '866', '1440', '0.60')\n",
      "('第3章-20', 'http://pintia.cn/problem-sets/1111652100718116864/problems/1163031535431180304', '逆序的三位数', '10', '910', '1550', '0.59')\n",
      "('第3章-21', 'http://pintia.cn/problem-sets/1111652100718116864/problems/1163031535431180305', '判断回文字符串', '15', '893', '2148', '0.42')\n",
      "('第3章-22', 'http://pintia.cn/problem-sets/1111652100718116864/problems/1163031535431180306', '输出大写英文字母', '15', '842', '1548', '0.54')\n",
      "('第4章-1', 'http://pintia.cn/problem-sets/1111652100718116864/problems/1163032889524477952', '生成3的乘方表', '15', '871', '1991', '0.44')\n",
      "('第4章-2', 'http://pintia.cn/problem-sets/1111652100718116864/problems/1163032889524477954', '统计素数并求和', '20', '918', '2837', '0.32')\n",
      "('第4章-3', 'http://pintia.cn/problem-sets/1111652100718116864/problems/1163032889524477955', '猴子吃桃问题', '15', '848', '1171', '0.72')\n",
      "('第4章-4', 'http://pintia.cn/problem-sets/1111652100718116864/problems/1163032889524477956', '验证“哥德巴赫猜想”', '20', '878', '3596', '0.24')\n",
      "('第4章-5', 'http://pintia.cn/problem-sets/1111652100718116864/problems/1163032889524477953', '求e的近似值', '15', '809', '1777', '0.46')\n",
      "('第4章-6', 'http://pintia.cn/problem-sets/1111652100718116864/problems/1163032889524477957', '输出前 n 个Fibonacci数', '15', '858', '2819', '0.30')\n",
      "('第4章-7', 'http://pintia.cn/problem-sets/1111652100718116864/problems/1163032889524477958', '统计学生平均成绩与及格人数', '15', '761', '3967', '0.19')\n",
      "('第4章-8', 'http://pintia.cn/problem-sets/1111652100718116864/problems/1163032889524477959', '求分数序列前N项和', '15', '714', '1170', '0.61')\n",
      "('第4章-9', 'http://pintia.cn/problem-sets/1111652100718116864/problems/1163032889524477960', '查询水果价格', '15', '697', '1672', '0.42')\n",
      "('第4章-10', 'http://pintia.cn/problem-sets/1111652100718116864/problems/1163032889524477961', '最大公约数和最小公倍数', '15', '730', '1371', '0.53')\n",
      "('第4章-11', 'http://pintia.cn/problem-sets/1111652100718116864/problems/1163032889524477962', '判断素数', '20', '793', '1415', '0.56')\n",
      "('第4章-12', 'http://pintia.cn/problem-sets/1111652100718116864/problems/1163032889524477978', '求满足条件的斐波那契数', '30', '751', '1021', '0.74')\n",
      "('第4章-13', 'http://pintia.cn/problem-sets/1111652100718116864/problems/1163032889524477980', '求误差小于输入值的e的近似值', '20', '670', '1224', '0.55')\n",
      "('第4章-14', 'http://pintia.cn/problem-sets/1111652100718116864/problems/1163032889524477979', '统计字符', '15', '637', '1535', '0.41')\n",
      "('第4章-15', 'http://pintia.cn/problem-sets/1111652100718116864/problems/1163032889524477963', '换硬币', '20', '629', '1357', '0.46')\n",
      "('第4章-16', 'http://pintia.cn/problem-sets/1111652100718116864/problems/1163032889524477964', 'jmu-python-判断是否构成三角形', '10', '654', '1026', '0.64')\n",
      "('第4章-17', 'http://pintia.cn/problem-sets/1111652100718116864/problems/1163032889524477965', '水仙花数（20 分）', '20', '720', '1270', '0.57')\n",
      "('第4章-18', 'http://pintia.cn/problem-sets/1111652100718116864/problems/1163032889524477976', '猴子选大王', '20', '629', '1016', '0.62')\n",
      "('第4章-19', 'http://pintia.cn/problem-sets/1111652100718116864/problems/1163032889524477966', '矩阵运算', '20', '608', '1021', '0.60')\n",
      "('第4章-20', 'http://pintia.cn/problem-sets/1111652100718116864/problems/1163032889524477967', '求矩阵各行元素之和', '15', '606', '779', '0.78')\n",
      "('第4章-21', 'http://pintia.cn/problem-sets/1111652100718116864/problems/1163032889524477968', '判断上三角矩阵', '15', '586', '1402', '0.42')\n",
      "('第4章-22', 'http://pintia.cn/problem-sets/1111652100718116864/problems/1163032889524477969', '找鞍点', '20', '571', '1729', '0.33')\n",
      "('第4章-23', 'http://pintia.cn/problem-sets/1111652100718116864/problems/1163032889524477971', '求矩阵的局部极大值', '15', '484', '915', '0.53')\n",
      "('第4章-24', 'http://pintia.cn/problem-sets/1111652100718116864/problems/1163032889524477972', '打印九九口诀表', '15', '591', '1321', '0.45')\n",
      "('第4章-25', 'http://pintia.cn/problem-sets/1111652100718116864/problems/1163032889524477970', '输出三角形字符阵列', '15', '525', '845', '0.62')\n",
      "('第4章-26', 'http://pintia.cn/problem-sets/1111652100718116864/problems/1163032889524477973', '求1!+3!+5!+……+n!', '10', '598', '891', '0.67')\n",
      "('第4章-27', 'http://pintia.cn/problem-sets/1111652100718116864/problems/1163032889524477974', '二维数组中每行最大值和每行和', '10', '502', '913', '0.55')\n",
      "('第4章-28', 'http://pintia.cn/problem-sets/1111652100718116864/problems/1163032889524477975', '矩阵转置', '10', '522', '851', '0.61')\n",
      "('第4章-29', 'http://pintia.cn/problem-sets/1111652100718116864/problems/1163032889524477977', '找出不是两个数组共有的元素', '20', '550', '1287', '0.43')\n",
      "('第4章-30', 'http://pintia.cn/problem-sets/1111652100718116864/problems/1163032889524477981', '找完数', '20', '611', '2582', '0.24')\n",
      "('第5章-1', 'http://pintia.cn/problem-sets/1111652100718116864/problems/1163034891574829066', '输出星期名缩写', '70', '676', '1072', '0.63')\n",
      "('第5章-2', 'http://pintia.cn/problem-sets/1111652100718116864/problems/1163034891574829056', '图的字典表示', '20', '481', '642', '0.75')\n",
      "('第5章-3', 'http://pintia.cn/problem-sets/1111652100718116864/problems/1163034891574829058', '四则运算（用字典实现）', '30', '580', '1073', '0.54')\n",
      "('第5章-4', 'http://pintia.cn/problem-sets/1111652100718116864/problems/1163034891574829059', '分析活动投票情况', '20', '628', '1778', '0.35')\n",
      "('第5章-5', 'http://pintia.cn/problem-sets/1111652100718116864/problems/1163034891574829060', '统计字符出现次数', '20', '617', '890', '0.69')\n",
      "('第5章-6', 'http://pintia.cn/problem-sets/1111652100718116864/problems/1163034891574829061', '统计工龄', '20', '559', '1049', '0.53')\n",
      "('第5章-7', 'http://pintia.cn/problem-sets/1111652100718116864/problems/1163034891574829062', '列表去重', '40', '698', '2107', '0.33')\n",
      "('第5章-8', 'http://pintia.cn/problem-sets/1111652100718116864/problems/1163034891574829063', '能被3,5和7整除的数的个数（用集合实现）', '30', '592', '782', '0.76')\n",
      "('第5章-9', 'http://pintia.cn/problem-sets/1111652100718116864/problems/1163034891574829064', '求矩阵鞍点的个数', '30', '449', '765', '0.59')\n",
      "('第5章-10', 'http://pintia.cn/problem-sets/1111652100718116864/problems/1163034891574829065', '两数之和', '30', '543', '975', '0.56')\n",
      "('第5章-11', 'http://pintia.cn/problem-sets/1111652100718116864/problems/1163034891574829057', '字典合并', '40', '523', '1215', '0.43')\n",
      "('第6章-1', 'http://pintia.cn/problem-sets/1111652100718116864/problems/1163035698160459780', '输入列表，求列表元素和(eval输入应用）', '10', '553', '775', '0.71')\n",
      "('第6章-2', 'http://pintia.cn/problem-sets/1111652100718116864/problems/1163035698160459788', '一帮一', '15', '465', '831', '0.56')\n",
      "('第6章-3', 'http://pintia.cn/problem-sets/1111652100718116864/problems/1163035698160459782', '列表或元组的数字元素求和', '20', '514', '942', '0.55')\n",
      "('第6章-4', 'http://pintia.cn/problem-sets/1111652100718116864/problems/1163035698160459783', '列表数字元素加权和(1)', '40', '490', '980', '0.50')\n",
      "('第6章-5', 'http://pintia.cn/problem-sets/1111652100718116864/problems/1163035698160459784', '列表元素个数的加权和(1)', '40', '463', '739', '0.63')\n",
      "('第6章-6', 'http://pintia.cn/problem-sets/1111652100718116864/problems/1163035698160459785', '求指定层的元素个数', '40', '461', '1296', '0.36')\n",
      "('第6章-7', 'http://pintia.cn/problem-sets/1111652100718116864/problems/1163035698160459786', '找出总分最高的学生', '15', '458', '713', '0.64')\n",
      "('第6章-8', 'http://pintia.cn/problem-sets/1111652100718116864/problems/1163035698160459787', ' *输出全排列（选作）', '20', '461', '642', '0.72')\n",
      "('第7章-1', 'http://pintia.cn/problem-sets/1111652100718116864/problems/1163036357031092224', '词频统计', '30', '516', '1735', '0.30')\n"
     ]
    }
   ],
   "source": [
    "tk = []\n",
    "html = driver.page_source\n",
    "reobj = re.compile(r'<tr><td class=\"answerIcon_1du7d\"></td><td>([\\d\\D]*?)</td><td><a href=\"([\\d\\D]*?)\" class=\"\">([\\d\\D]*?)</a></td><td>([\\d\\D]*?)</td><td>([\\d\\D]*?)</td><td>([\\d\\D]*?)</td><td>([\\d\\D]*?)</td></tr>')\n",
    "for match in reobj.finditer(html):\n",
    "        a = match.group(1)\n",
    "        b = \"http://pintia.cn\"+match.group(2)\n",
    "        c = match.group(3) \n",
    "        d = match.group(4)\n",
    "        e = match.group(5)\n",
    "        f = match.group(6)\n",
    "        g = match.group(7)\n",
    "        G = (a,b,c,d,e,f,g,)\n",
    "        print(G)\n",
    "        tk.append(G)"
   ]
  },
  {
   "cell_type": "code",
   "execution_count": 1,
   "metadata": {},
   "outputs": [
    {
     "ename": "NameError",
     "evalue": "name 'tk' is not defined",
     "output_type": "error",
     "traceback": [
      "\u001b[1;31m---------------------------------------------------------------------------\u001b[0m",
      "\u001b[1;31mNameError\u001b[0m                                 Traceback (most recent call last)",
      "\u001b[1;32m<ipython-input-1-60f2398bbd05>\u001b[0m in \u001b[0;36m<module>\u001b[1;34m()\u001b[0m\n\u001b[0;32m      1\u001b[0m \u001b[0mXQY\u001b[0m \u001b[1;33m=\u001b[0m \u001b[1;33m[\u001b[0m\u001b[1;33m]\u001b[0m\u001b[1;33m\u001b[0m\u001b[0m\n\u001b[1;32m----> 2\u001b[1;33m \u001b[1;32mfor\u001b[0m \u001b[0mi\u001b[0m \u001b[1;32min\u001b[0m \u001b[0mtk\u001b[0m\u001b[1;33m:\u001b[0m\u001b[1;33m\u001b[0m\u001b[0m\n\u001b[0m\u001b[0;32m      3\u001b[0m     \u001b[1;32mfrom\u001b[0m \u001b[0mselenium\u001b[0m \u001b[1;32mimport\u001b[0m \u001b[0mwebdriver\u001b[0m\u001b[1;33m\u001b[0m\u001b[0m\n\u001b[0;32m      4\u001b[0m     \u001b[0mdriver\u001b[0m\u001b[1;33m=\u001b[0m\u001b[0mwebdriver\u001b[0m\u001b[1;33m.\u001b[0m\u001b[0mChrome\u001b[0m\u001b[1;33m(\u001b[0m\u001b[1;33m)\u001b[0m\u001b[1;33m\u001b[0m\u001b[0m\n\u001b[0;32m      5\u001b[0m     \u001b[0murls\u001b[0m \u001b[1;33m=\u001b[0m \u001b[0mi\u001b[0m\u001b[1;33m[\u001b[0m\u001b[1;36m1\u001b[0m\u001b[1;33m]\u001b[0m\u001b[1;33m\u001b[0m\u001b[0m\n",
      "\u001b[1;31mNameError\u001b[0m: name 'tk' is not defined"
     ]
    }
   ],
   "source": [
    "XQY = []\n",
    "for i in tk:\n",
    "    from selenium import webdriver\n",
    "    driver=webdriver.Chrome()\n",
    "    urls = i[1]\n",
    "    driver.get(urls)\n",
    "    html = driver.page_source\n",
    "    reobj = re.compile(r'<div class=\"ques-view\">[\\d\\D]*</div></pre>[\\d\\D]*?</div>')\n",
    "    for match in reobj.finditer(html):\n",
    "        h = match.group()\n",
    "        XQY.append(h)\n",
    "        "
   ]
  },
  {
   "cell_type": "code",
   "execution_count": 2,
   "metadata": {},
   "outputs": [
    {
     "ename": "TypeError",
     "evalue": "'type' object is not iterable",
     "output_type": "error",
     "traceback": [
      "\u001b[1;31m---------------------------------------------------------------------------\u001b[0m",
      "\u001b[1;31mTypeError\u001b[0m                                 Traceback (most recent call last)",
      "\u001b[1;32m<ipython-input-2-a81825a2d8fc>\u001b[0m in \u001b[0;36m<module>\u001b[1;34m()\u001b[0m\n\u001b[0;32m      2\u001b[0m \u001b[0mf\u001b[0m \u001b[1;33m=\u001b[0m \u001b[0mcodecs\u001b[0m\u001b[1;33m.\u001b[0m\u001b[0mopen\u001b[0m\u001b[1;33m(\u001b[0m\u001b[1;34mr\"C:\\袁雅倩\\袁雅倩的明星信息作业.csv\"\u001b[0m\u001b[1;33m,\u001b[0m\u001b[1;34m\"w\"\u001b[0m\u001b[1;33m,\u001b[0m\u001b[1;34m\"utf-8-sig\"\u001b[0m\u001b[1;33m)\u001b[0m\u001b[1;33m\u001b[0m\u001b[0m\n\u001b[0;32m      3\u001b[0m \u001b[0mf\u001b[0m\u001b[1;33m.\u001b[0m\u001b[0mwrite\u001b[0m\u001b[1;33m(\u001b[0m\u001b[1;34m\"标号,链接,标题,分数,通过数,提交数,通过率\\n\"\u001b[0m\u001b[1;33m)\u001b[0m\u001b[1;33m\u001b[0m\u001b[0m\n\u001b[1;32m----> 4\u001b[1;33m \u001b[1;32mfor\u001b[0m \u001b[0mi\u001b[0m \u001b[1;32min\u001b[0m \u001b[0mlist\u001b[0m\u001b[1;33m:\u001b[0m\u001b[1;33m\u001b[0m\u001b[0m\n\u001b[0m\u001b[0;32m      5\u001b[0m    \u001b[0mf\u001b[0m\u001b[1;33m.\u001b[0m\u001b[0mwrite\u001b[0m\u001b[1;33m(\u001b[0m\u001b[1;34m\",\"\u001b[0m\u001b[1;33m.\u001b[0m\u001b[0mjoin\u001b[0m\u001b[1;33m(\u001b[0m\u001b[0mi\u001b[0m\u001b[1;33m)\u001b[0m\u001b[1;33m+\u001b[0m\u001b[1;34m\"\\n\"\u001b[0m\u001b[1;33m)\u001b[0m\u001b[1;33m\u001b[0m\u001b[0m\n\u001b[0;32m      6\u001b[0m \u001b[0mf\u001b[0m\u001b[1;33m.\u001b[0m\u001b[0mclose\u001b[0m\u001b[1;33m(\u001b[0m\u001b[1;33m)\u001b[0m\u001b[1;33m\u001b[0m\u001b[0m\n",
      "\u001b[1;31mTypeError\u001b[0m: 'type' object is not iterable"
     ]
    }
   ],
   "source": [
    "import codecs\n",
    "f = codecs.open(r\"C:\\袁雅倩\\袁雅倩的明星信息作业.csv\",\"w\",\"utf-8-sig\")\n",
    "f.write(\"标号,链接,标题,分数,通过数,提交数,通过率\\n\")\n",
    "for i in list:\n",
    "   f.write(\",\".join(i)+\"\\n\") \n",
    "f.close()"
   ]
  },
  {
   "cell_type": "code",
   "execution_count": null,
   "metadata": {},
   "outputs": [],
   "source": []
  }
 ],
 "metadata": {
  "kernelspec": {
   "display_name": "Python 3",
   "language": "python",
   "name": "python3"
  },
  "language_info": {
   "codemirror_mode": {
    "name": "ipython",
    "version": 3
   },
   "file_extension": ".py",
   "mimetype": "text/x-python",
   "name": "python",
   "nbconvert_exporter": "python",
   "pygments_lexer": "ipython3",
   "version": "3.7.0"
  }
 },
 "nbformat": 4,
 "nbformat_minor": 2
}
