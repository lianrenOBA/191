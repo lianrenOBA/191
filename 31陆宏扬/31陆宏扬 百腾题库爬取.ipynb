{
 "cells": [
  {
   "cell_type": "markdown",
   "metadata": {},
   "source": [
    "# 百腾题库题目数据采集"
   ]
  },
  {
   "cell_type": "code",
   "execution_count": null,
   "metadata": {},
   "outputs": [],
   "source": [
    "from selenium import webdriver\n",
    "from lxml import etree\n",
    "import time\n",
    "import os\n",
    "from pony.orm import *\n",
    "\n",
    "db = Database()"
   ]
  },
  {
   "cell_type": "markdown",
   "metadata": {},
   "source": [
    "# 设置参数"
   ]
  },
  {
   "cell_type": "code",
   "execution_count": null,
   "metadata": {},
   "outputs": [],
   "source": [
    "class Tm(db.Entity):\n",
    "    id = PrimaryKey(int, auto=True)\n",
    "    tixing = Optional(str, column='tixing')\n",
    "    biaohao = Optional(str, column='biaohao')\n",
    "    biaoti = Optional(str, column='biaoti')\n",
    "    fengshu = Optional(str, column='fengshu')\n",
    "    tongguoshu = Optional(str, column='tongguoshu')\n",
    "    tijiaoshu = Optional(str, column='tijiaoshu')\n",
    "    tongguolv = Optional(str, column='tongguolv')\n",
    "    tmneirong = Optional(str, column='tmneirong')\n",
    "    html = Optional(str, column='html')\n",
    "    href = Optional(str, column='href')\n"
   ]
  },
  {
   "cell_type": "markdown",
   "metadata": {},
   "source": [
    "# 创建数据库"
   ]
  },
  {
   "cell_type": "code",
   "execution_count": null,
   "metadata": {},
   "outputs": [],
   "source": [
    "def create_database():\n",
    "    dbpath = r'H:\\python作业\\百腾题库采集\\百腾题库.sqlite'\n",
    "    if os.path.exists(dbpath):\n",
    "        os.remove(dbpath)\n",
    "    f = open(dbpath, 'w')\n",
    "    f.close()\n",
    "\n",
    "    db.bind(provider='sqlite', filename=dbpath)\n",
    "\n",
    "    db.generate_mapping(create_tables=True)\n",
    "\n",
    "    set_sql_debug(True)\n",
    "\n",
    "\n",
    "@db_session()\n",
    "def _get_data(url):\n",
    "    if url[-1] == '6':\n",
    "        tixing = '函数题'\n",
    "    else:\n",
    "        tixing = '编程题'\n",
    "\n",
    "    driver.get(url)  # 打开网页\n",
    "    time.sleep(5)\n",
    "    html = driver.page_source  # 获取html"
   ]
  },
  {
   "cell_type": "markdown",
   "metadata": {},
   "source": [
    "# # 采集相应信息"
   ]
  },
  {
   "cell_type": "code",
   "execution_count": null,
   "metadata": {},
   "outputs": [],
   "source": [
    "    etr = etree.HTML(html, etree.HTMLParser())\n",
    "    for tr in etr.xpath('//tbody/tr'):\n",
    "        biaohao = tr.xpath('td[2]/text()')[0]  # 编号\n",
    "        biaoti = tr.xpath('td[3]/a/text()')[0]  # 标题\n",
    "        fengshu = tr.xpath('td[4]/text()')[0]  # 分数\n",
    "        tongguoshu = tr.xpath('td[5]/text()')[0]  # 通过数\n",
    "        tijiaoshu = tr.xpath('td[6]/text()')[0]  # 提交数\n",
    "        tongguolv = tr.xpath('td[7]/text()')[0]  # 通过率\n",
    "        href = 'https://pintia.cn' + tr.xpath('td[3]/a/@href')[0]  # 链接\n",
    "        s = Tm(tixing=tixing, biaohao=biaohao, biaoti=biaoti, fengshu=fengshu, tongguoshu=tongguoshu,\n",
    "               tijiaoshu=tijiaoshu, tongguolv=tongguolv, href=href)\n",
    "        db.commit()\n",
    "\n",
    "#获取所有函数题和编程题\n",
    "@db_session()\n",
    "def get_all_tm():\n",
    "    urls = ['https://pintia.cn/problem-sets/1111652100718116864/problems/type/6',\n",
    "            'https://pintia.cn/problem-sets/1111652100718116864/problems/type/7']\n",
    "    for url in urls:\n",
    "        _get_data(url)\n",
    "\n",
    "#获取题目详情页的html\n",
    "def _get_html(url):\n",
    "    driver.get(url)\n",
    "    time.sleep(2)\n",
    "    return driver.page_source\n",
    "\n",
    "#获取全部题目的详情页html,保存进数据库\n",
    "@db_session()\n",
    "def get_all_html():\n",
    "    with db_session:\n",
    "        for t in Tm.select():\n",
    "            t.html = _get_html(t.href)\n",
    "            db.commit()\n",
    "\n",
    "#获取题目的内容\n",
    "def _get_tmnr(html):\n",
    "    etr = etree.HTML(html, etree.HTMLParser())\n",
    "    tm = etr.xpath('//*[@id=\"sparkling-daydream\"]/div[3]/div[3]/div/div[4]/div[2]/div[1]/div/p[1]//text()')\n",
    "    s = ''\n",
    "    try:\n",
    "        for i in tm:\n",
    "            s = s + i.strip()\n",
    "    except:\n",
    "        s = ''\n",
    "    return s"
   ]
  },
  {
   "cell_type": "markdown",
   "metadata": {},
   "source": [
    "# 获取所有题目的题目内容,保存进数据库"
   ]
  },
  {
   "cell_type": "code",
   "execution_count": null,
   "metadata": {},
   "outputs": [],
   "source": [
    "@db_session()\n",
    "def get_all_tmnr():\n",
    "    with db_session:\n",
    "        for t in Tm.select():\n",
    "            t.tmneirong = _get_tmnr(t.html)\n",
    "            db.commit()\n",
    "\n",
    "\n",
    "if __name__ == '__main__':\n",
    "    create_database()\n",
    "    driver = webdriver.Chrome()\n",
    "    get_all_tm()\n",
    "    get_all_html()\n",
    "    get_all_tmnr()"
   ]
  }
 ],
 "metadata": {
  "kernelspec": {
   "display_name": "Python 3",
   "language": "python",
   "name": "python3"
  },
  "language_info": {
   "codemirror_mode": {
    "name": "ipython",
    "version": 3
   },
   "file_extension": ".py",
   "mimetype": "text/x-python",
   "name": "python",
   "nbconvert_exporter": "python",
   "pygments_lexer": "ipython3",
   "version": "3.7.4"
  }
 },
 "nbformat": 4,
 "nbformat_minor": 2
}
