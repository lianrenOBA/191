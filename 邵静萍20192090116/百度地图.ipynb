{
 "cells": [
  {
   "cell_type": "code",
   "execution_count": 8,
   "metadata": {},
   "outputs": [],
   "source": [
    "from selenium import webdriver\n",
    "import re\n",
    "driver=webdriver.Chrome()\n",
    "url = 'https://map.baidu.com/search/%E9%85%92%E5%BA%97/@13401732.53177934,3523223.946983189,17.18z?querytype=nb&c=179&wd=%E9%85%92%E5%BA%97&da_src=shareurl&on_gel=1&l=17&gr=2&b=(13400955.738521043,3522571.3349600625;13402509.325037636,3523876.559006315)&pl_data_type=hotel&pl_sub_type=%E9%85%92%E5%BA%97&pl_price_section=0,%2B&pl_sort_type=default&pl_sort_rule=0&pl_discount2_section=0,%2B&pl_groupon_section=0,%2B&pl_cater_book_pc_section=0,%2B&pl_hotel_book_pc_section=0,%2B&pl_ticket_book_flag_section=0,%2B&pl_movie_book_section=0,%2B&pl_business_type=hotel&uid=7a0cb8c0d67a634683a00c28&nb_x=13401816.6&nb_y=3523321.62&gr_radius=1000&pn=0&device_ratio=1'\n",
    "driver.get(url)"
   ]
  },
  {
   "cell_type": "code",
   "execution_count": 9,
   "metadata": {},
   "outputs": [
    {
     "name": "stdout",
     "output_type": "stream",
     "text": [
      "[('浙江供销客房部', '                    /5分', '酒店                ', '杭州市江干区'), ('TEL茶砚酒店', '                    4.1/5分', '舒适型                ', '学源街239号浙江经贸学院北门'), ('杭州暖巢公寓', '                    0.0/5分', '宾馆                ', '浙江省杭州市江干区经济开发区宝龙城市广场'), ('杭州子行千里公寓(NO.3店)', '                    0.0/5分', '经济型                ', '25号大街(宝龙城市广场)'), ('杭州城管驿站(钱塘新区公园站)', '                    /5分', '酒店                ', '浙江省杭州市江干区学林街4号附近'), ('杭州森屿公寓(学正街分店)', '                    0.0/5分', '酒店                ', '浙江省杭州市江干区下沙25号大街(永辉超市楼上)'), ('杭州子行千里公寓(NO.4店)', '                    /5分', '酒店                ', '浙江省杭州市江干区25号大街'), ('杭州陌上花开2019公寓', '                    5.0/5分', '酒店                ', '浙江省杭州市江干区宝龙城市广场二期'), ('杭州钱塘江语公寓', '                    0.0/5分', '经济型                ', '宝龙城市广场'), ('杭州周末轰趴馆公寓', '                    0.0/5分', '酒店                ', '浙江省杭州江干区下沙宝龙城市广场29幢')]\n"
     ]
    }
   ],
   "source": [
    "import re,time\n",
    "time.sleep(5)\n",
    "\n",
    "result=[]\n",
    "html=driver.page_source\n",
    "\n",
    "reobj = re.compile(r'title\" data-detail-code=\"list_page\">([\\d\\D]*?)</a>[\\d\\D]*?<span>([\\d\\D]*?)<i [\\d\\D]*?</i>([\\d\\D]*?)</span>[\\d\\D]*?title=\"([\\d\\D]*?)\">[\\d\\D]*?</span>            </div>')\n",
    "for match in reobj.finditer(html):\n",
    "    a=match.group(1)\n",
    "    b=match.group(2)\n",
    "    c=match.group(3)\n",
    "    d=match.group(4)\n",
    "    e=(a,b,c,d)\n",
    "    result.append(e)\n",
    "print(result)"
   ]
  },
  {
   "cell_type": "code",
   "execution_count": null,
   "metadata": {},
   "outputs": [],
   "source": []
  }
 ],
 "metadata": {
  "kernelspec": {
   "display_name": "Python 3",
   "language": "python",
   "name": "python3"
  },
  "language_info": {
   "codemirror_mode": {
    "name": "ipython",
    "version": 3
   },
   "file_extension": ".py",
   "mimetype": "text/x-python",
   "name": "python",
   "nbconvert_exporter": "python",
   "pygments_lexer": "ipython3",
   "version": "3.6.5"
  }
 },
 "nbformat": 4,
 "nbformat_minor": 2
}
