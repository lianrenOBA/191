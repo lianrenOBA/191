{
 "cells": [
  {
   "cell_type": "code",
   "execution_count": null,
   "metadata": {},
   "outputs": [],
   "source": [
    "from selenium import webdriver\n",
    "driver=webdriver.Chrome()\n",
    "url ='https://pintia.cn/problem-sets/1111652100718116864/problems/type/7'\n",
    "driver.get(url)"
   ]
  },
  {
   "cell_type": "code",
   "execution_count": null,
   "metadata": {},
   "outputs": [],
   "source": [
    "import re\n",
    "import time\n",
    "html = driver.page_source"
   ]
  },
  {
   "cell_type": "code",
   "execution_count": null,
   "metadata": {},
   "outputs": [],
   "source": [
    "list=[]\n",
    "for i in range(2):\n",
    "    html = driver.page_source\n",
    "    reobj = re.compile(r'<tr><td class=\"answerIcon_1du7d\"></td><td>([\\D\\d]*?)</td><td><a href=\"([\\D\\d]*?)\" class=\"\">([\\D\\d]*?)</a></td><td>([\\D\\d]*?)</td><td>([\\D\\d]*?)</td><td>([\\D\\d]*?)</td><td>([\\D\\d]*?)</td></tr>')\n",
    "for match in reobj.finditer(html):\n",
    "        a = match.group(1)\n",
    "        b = match.group(2)\n",
    "        b = match.group(3)\n",
    "        c = match.group(4)\n",
    "        d = match.group(5)\n",
    "        e = match.group(6)\n",
    "        f = match.group(7)\n",
    "        g = \"https://pintia.cn/\"+b\n",
    "        h = (a,b,c,d,e,f,g)\n",
    "        list.append(h)\n",
    "print(list)"
   ]
  },
  {
   "cell_type": "code",
   "execution_count": null,
   "metadata": {},
   "outputs": [],
   "source": [
    "import codecs\n",
    "f = codecs.open(r\"d:\\百腾题库.csv\",\"w\",\"utf_8_sig\")\n",
    "f.write(\"标号、标题、分数、通过数、提交数、通过率、题目内容、完整html、题型（编程题 、函数题），题目详情页链接\\n\")\n",
    "for i in list:\n",
    "    f.write(\",\".join(i)+\"\\n\")\n",
    "f.close()"
   ]
  }
 ],
 "metadata": {
  "kernelspec": {
   "display_name": "Python 3",
   "language": "python",
   "name": "python3"
  },
  "language_info": {
   "codemirror_mode": {
    "name": "ipython",
    "version": 3
   },
   "file_extension": ".py",
   "mimetype": "text/x-python",
   "name": "python",
   "nbconvert_exporter": "python",
   "pygments_lexer": "ipython3",
   "version": "3.7.4"
  }
 },
 "nbformat": 4,
 "nbformat_minor": 2
}
