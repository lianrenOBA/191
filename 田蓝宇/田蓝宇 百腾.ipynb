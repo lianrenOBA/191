{
 "cells": [
  {
   "cell_type": "code",
   "execution_count": 8,
   "metadata": {},
   "outputs": [],
   "source": [
    "from selenium import webdriver\n",
    "import re\n",
    "import time\n",
    "driver=webdriver.Chrome()\n",
    "url = \"https://pintia.cn/problem-sets/1111652100718116864/problems/type/6\"\n",
    "driver.get(url)"
   ]
  },
  {
   "cell_type": "code",
   "execution_count": null,
   "metadata": {},
   "outputs": [],
   "source": [
    "from pony.orm import *\n",
    "\n",
    "db = Database()\n",
    "\n",
    "class Topic(db.Entity):\n",
    "    tab = PrimaryKey(str, column='tab', auto=True)\n",
    "    Title = Optional(str, column='Title')\n",
    "    grade = Optional(int, column='grade')\n",
    "    Pass = Optional(int, column='Pass')\n",
    "    Submit = Optional(int, column='Submit')\n",
    "    Pass_Rate = Optional(str, column='Pass_Rate')"
   ]
  },
  {
   "cell_type": "code",
   "execution_count": null,
   "metadata": {},
   "outputs": [],
   "source": [
    "db.bind(provider='sqlite', filename='E:/python/5.sqlite')\n",
    "db.generate_mapping(create_tables=True)\n",
    "set_sql_debug(True)"
   ]
  },
  {
   "cell_type": "code",
   "execution_count": 10,
   "metadata": {},
   "outputs": [],
   "source": [
    "def New_html(url):\n",
    "    dr=webdriver.Chrome()\n",
    "    dr.get(url)\n",
    "    html = dr.page_source\n",
    "    time.sleep(3)\n",
    "    dr.close()\n",
    "    return html"
   ]
  },
  {
   "cell_type": "code",
   "execution_count": null,
   "metadata": {},
   "outputs": [],
   "source": [
    "def total(n):\n",
    "    Questions=\"函数题\"#题型\n",
    "    reobj = re.compile(r'<tr><td class=\"answerIcon_1du7d\"></td><td>([\\d\\D]*?)</td><td><a href=\"/problem-sets/1111652100718116864/problems/[\\d\\D]*?\" class=\"\">([\\d\\D]*?)</a></td><td>([\\d\\D]*?)</td><td>([\\d\\D]*?)</td><td>([\\d\\D]*?)</td><td>([\\d\\D]*?)</td></tr>')\n",
    "for match in reobj.finditer(html):\n",
    "     tab=match.group(1)#标号\n",
    "        Title=match.group(2)#标题\n",
    "        grade=match.group(3)#分数\n",
    "        Pass=match.group(4)#通过数\n",
    "        Submit=match.group(5)#提交数\n",
    "        Pass_Rate=match.group(6)#通过率\n",
    "        s = Topic(tab = tab,Title = Title,grade=grade,Pass=Pass,Submit=Submit,Pass_Rate=Pass_Rate,html=html,Questions=Questions,tab_url=tab_url)\n",
    "        db.commit()"
   ]
  },
  {
   "cell_type": "code",
   "execution_count": null,
   "metadata": {},
   "outputs": [],
   "source": [
    "total(driver.page_source)\n",
    "driver.find_element_by_xpath(\"//div[@id='sparkling-daydream']/div[3]/div[3]/div/ul/li[2]/a/div\").click()\n",
    "total(driver.page_source)"
   ]
  },
  {
   "cell_type": "code",
   "execution_count": null,
   "metadata": {},
   "outputs": [],
   "source": []
  }
 ],
 "metadata": {
  "kernelspec": {
   "display_name": "Python 3",
   "language": "python",
   "name": "python3"
  },
  "language_info": {
   "codemirror_mode": {
    "name": "ipython",
    "version": 3
   },
   "file_extension": ".py",
   "mimetype": "text/x-python",
   "name": "python",
   "nbconvert_exporter": "python",
   "pygments_lexer": "ipython3",
   "version": "3.6.5"
  }
 },
 "nbformat": 4,
 "nbformat_minor": 2
}
