{
 "cells": [
  {
   "cell_type": "code",
   "execution_count": 1,
   "metadata": {
    "collapsed": true
   },
   "outputs": [],
   "source": [
    "解题思路：\n",
    "1 用selenium模块打开百度明星的网页\n",
    "2 模拟点击内地，女\n",
    "3 获取源代码，利用正则循环抽取女明星的姓名，图片，详情页的链接，直至最后一页\n",
    "4 储存为csv格式"
   ]
  },
  {
   "cell_type": "code",
   "execution_count": null,
   "metadata": {
    "collapsed": true
   },
   "outputs": [],
   "source": [
    "import re,time\n",
    "from selenium import webdriver \n",
    "driver=webdriver.Chrome()\n",
    "url = 'https://www.baidu.com/s?wd=明星&rsv_spt=1&rsv_iqid=0xbe4b76860031fb66&issp=1&f=8&rsv_bp=1&rsv_idx=2&ie=utf-8&rqlang=&tn=baiduhome_pg&ch=&rsv_enter=1&rsv_dl=ib&inputT=2978'\n",
    "driver.get(url)\n",
    "import time"
   ]
  },
  {
   "cell_type": "code",
   "execution_count": 2,
   "metadata": {
    "collapsed": true
   },
   "outputs": [],
   "source": [
    "driver.find_element_by_xpath(\"//div[@id='1']/div/div/div/div[2]/p/span[4]\").click()#模拟点击内地\n",
    "driver.find_element_by_xpath(\"//div[@id='1']/div/div/div/div[2]/p[2]/span[3]\").click()#模拟点击女"
   ]
  },
  {
   "cell_type": "code",
   "execution_count": 3,
   "metadata": {},
   "outputs": [
    {
     "name": "stdout",
     "output_type": "stream",
     "text": [
      "('刘诗诗', 'https://dss1.baidu.com/6ONXsjip0QIZ8tyhnq/it/u=3301421587,374458331&amp;fm=58&amp;app=83&amp;f=JPEG?w=250&amp;h=250&amp;s=DA88AF476E23768C991018B303008060\"></a></p><p class=\"c-gap-top-small', '/s?wd=%E5%88%98%E8%AF%97%E8%AF%97&amp;rsv_idx=2&amp;tn=baiduhome_pg&amp;usm=5&amp;ie=utf-8&amp;rsv_cq=%E6%98%8E%E6%98%9F&amp;rsv_dl=0_left_exactqa_28266')\n",
      "('周笔畅', 'https://dss2.baidu.com/6ONYsjip0QIZ8tyhnq/it/u=2691436022,2148011552&amp;fm=58&amp;app=83&amp;f=JPEG?w=250&amp;h=250&amp;s=F7B020625C336694340C77C70300F0AF\"></a></p><p class=\"c-gap-top-small', '/s?wd=%E5%91%A8%E7%AC%94%E7%95%85&amp;rsv_idx=2&amp;tn=baiduhome_pg&amp;usm=5&amp;ie=utf-8&amp;rsv_cq=%E6%98%8E%E6%98%9F&amp;rsv_dl=0_left_exactqa_28266')\n",
      "('陈冲', 'https://dss2.baidu.com/6ONYsjip0QIZ8tyhnq/it/u=3553072757,3884293712&amp;fm=58&amp;app=83&amp;f=JPEG?w=250&amp;h=250&amp;s=410AF31F4C01F694760808CA0300D020\"></a></p><p class=\"c-gap-top-small', '/s?wd=%E9%99%88%E5%86%B2&amp;rsv_idx=2&amp;tn=baiduhome_pg&amp;usm=5&amp;ie=utf-8&amp;rsv_cq=%E6%98%8E%E6%98%9F&amp;rsv_dl=0_left_exactqa_28266')\n",
      "('麦迪娜', 'https://dss1.baidu.com/6ONXsjip0QIZ8tyhnq/it/u=3610427464,467002164&amp;fm=58&amp;app=83&amp;f=JPEG?w=250&amp;h=250&amp;s=AF30EB0704C386AC369CC4C90300C012\"></a></p><p class=\"c-gap-top-small', '/s?wd=%E9%BA%A6%E8%BF%AA%E5%A8%9C&amp;rsv_idx=2&amp;tn=baiduhome_pg&amp;usm=5&amp;ie=utf-8&amp;rsv_cq=%E6%98%8E%E6%98%9F&amp;rsv_dl=0_left_exactqa_28266')\n",
      "('何超琼', 'https://dss1.baidu.com/6ONXsjip0QIZ8tyhnq/it/u=2655293521,2354664511&amp;fm=58&amp;app=83&amp;f=JPG?w=250&amp;h=250&amp;s=B75619C7AA62249C390C4DB803008012\"></a></p><p class=\"c-gap-top-small', '/s?wd=%E4%BD%95%E8%B6%85%E7%90%BC&amp;rsv_idx=2&amp;tn=baiduhome_pg&amp;usm=5&amp;ie=utf-8&amp;rsv_cq=%E6%98%8E%E6%98%9F&amp;rsv_dl=0_left_exactqa_28266')\n",
      "('黎婉华', 'https://dss1.baidu.com/6ONXsjip0QIZ8tyhnq/it/u=3255144322,2719353774&amp;fm=58&amp;app=83&amp;f=JPEG?w=250&amp;h=250&amp;s=E8C27A2B0C60148C0194D14A0100E091\"></a></p><p class=\"c-gap-top-small', '/s?wd=%E9%BB%8E%E5%A9%89%E5%8D%8E&amp;rsv_idx=2&amp;tn=baiduhome_pg&amp;usm=5&amp;ie=utf-8&amp;rsv_cq=%E6%98%8E%E6%98%9F&amp;rsv_dl=0_left_exactqa_28266')\n",
      "('迪丽热巴', 'https://dss2.baidu.com/6ONYsjip0QIZ8tyhnq/it/u=2351971469,1567920426&amp;fm=58&amp;app=83&amp;f=JPEG?w=250&amp;h=250&amp;s=5CB087553F325B94268C71C80300E032\"></a></p><p class=\"c-gap-top-small', '/s?wd=%E8%BF%AA%E4%B8%BD%E7%83%AD%E5%B7%B4&amp;rsv_idx=2&amp;tn=baiduhome_pg&amp;usm=5&amp;ie=utf-8&amp;rsv_cq=%E6%98%8E%E6%98%9F&amp;rsv_dl=0_left_exactqa_28266')\n",
      "('赵丽颖', 'https://dss2.baidu.com/6ONYsjip0QIZ8tyhnq/it/u=1833321872,1873644000&amp;fm=58&amp;app=83&amp;f=JPEG?w=250&amp;h=250&amp;s=54F813D7523B5394D7AF02A003007029\"></a></p><p class=\"c-gap-top-small', '/s?wd=%E8%B5%B5%E4%B8%BD%E9%A2%96&amp;rsv_idx=2&amp;tn=baiduhome_pg&amp;usm=5&amp;ie=utf-8&amp;rsv_cq=%E6%98%8E%E6%98%9F&amp;rsv_dl=0_left_exactqa_28266')\n",
      "('杨幂', 'https://dss0.baidu.com/6ONWsjip0QIZ8tyhnq/it/u=481823748,3803020137&amp;fm=58&amp;app=83&amp;f=JPEG?w=250&amp;h=250&amp;s=B9166094023B4794C78571F803008034\"></a></p><p class=\"c-gap-top-small', '/s?wd=%E6%9D%A8%E5%B9%82&amp;rsv_idx=2&amp;tn=baiduhome_pg&amp;usm=5&amp;ie=utf-8&amp;rsv_cq=%E6%98%8E%E6%98%9F&amp;rsv_dl=0_left_exactqa_28266')\n",
      "('Angelababy', 'https://dss2.baidu.com/6ONYsjip0QIZ8tyhnq/it/u=4270701299,2941499669&amp;fm=58&amp;app=83&amp;f=JPEG?w=250&amp;h=250&amp;s=DABBA345F1026F5D92BC84FE03000033\"></a></p><p class=\"c-gap-top-small', '/s?wd=Angelababy&amp;rsv_idx=2&amp;tn=baiduhome_pg&amp;usm=5&amp;ie=utf-8&amp;rsv_cq=%E6%98%8E%E6%98%9F&amp;rsv_dl=0_left_exactqa_28266')\n",
      "('苍井空', 'https://dss1.baidu.com/6ONXsjip0QIZ8tyhnq/it/u=4042062772,1300677165&amp;fm=58&amp;app=83&amp;f=JPEG?w=250&amp;h=250&amp;s=F1B51F7403426F51064259CF0300B0B9\"></a></p><p class=\"c-gap-top-small', '/s?wd=%E8%8B%8D%E4%BA%95%E7%A9%BA&amp;rsv_idx=2&amp;tn=baiduhome_pg&amp;usm=5&amp;ie=utf-8&amp;rsv_cq=%E6%98%8E%E6%98%9F&amp;rsv_dl=0_left_exactqa_28266')\n",
      "('何超仪', 'https://dss2.baidu.com/6ONYsjip0QIZ8tyhnq/it/u=2197314275,1004718386&amp;fm=58&amp;app=83&amp;f=JPEG?w=250&amp;h=250&amp;s=90B0AF3B4E7152941EB583E103005025\"></a></p><p class=\"c-gap-top-small', '/s?wd=%E4%BD%95%E8%B6%85%E4%BB%AA&amp;rsv_idx=2&amp;tn=baiduhome_pg&amp;usm=5&amp;ie=utf-8&amp;rsv_cq=%E6%98%8E%E6%98%9F&amp;rsv_dl=0_left_exactqa_28266')\n",
      "('唐嫣', 'https://dss0.baidu.com/6ONWsjip0QIZ8tyhnq/it/u=3725561364,1533965488&amp;fm=58&amp;app=83&amp;f=JPEG?w=250&amp;h=250&amp;s=BEA3F3077E236E152080197D0300D038\"></a></p><p class=\"c-gap-top-small', '/s?wd=%E5%94%90%E5%AB%A3&amp;rsv_idx=2&amp;tn=baiduhome_pg&amp;usm=5&amp;ie=utf-8&amp;rsv_cq=%E6%98%8E%E6%98%9F&amp;rsv_dl=0_left_exactqa_28266')\n",
      "('李晟', 'https://dss0.baidu.com/6ONWsjip0QIZ8tyhnq/it/u=1663485144,32124777&amp;fm=58&amp;app=83&amp;f=JPEG?w=250&amp;h=250&amp;s=CDA0AC54F4337184348C2CDA0300C0B5\"></a></p><p class=\"c-gap-top-small', '/s?wd=%E6%9D%8E%E6%99%9F&amp;rsv_idx=2&amp;tn=baiduhome_pg&amp;usm=5&amp;ie=utf-8&amp;rsv_cq=%E6%98%8E%E6%98%9F&amp;rsv_dl=0_left_exactqa_28266')\n",
      "('范冰冰', 'https://dss1.baidu.com/6ONXsjip0QIZ8tyhnq/it/u=4147546222,1928275276&amp;fm=58&amp;app=83&amp;f=JPEG?w=250&amp;h=250&amp;s=4DECA844EC3A6294D40834D80300D090\"></a></p><p class=\"c-gap-top-small', '/s?wd=%E8%8C%83%E5%86%B0%E5%86%B0&amp;rsv_idx=2&amp;tn=baiduhome_pg&amp;usm=5&amp;ie=utf-8&amp;rsv_cq=%E6%98%8E%E6%98%9F&amp;rsv_dl=0_left_exactqa_28266')\n",
      "('张馨予', 'https://dss2.baidu.com/6ONYsjip0QIZ8tyhnq/it/u=686211119,2288907434&amp;fm=58&amp;app=83&amp;f=JPEG?w=250&amp;h=250&amp;s=E9805F326523630164E87CCA0300E0A3\"></a></p><p class=\"c-gap-top-small', '/s?wd=%E5%BC%A0%E9%A6%A8%E4%BA%88&amp;rsv_idx=2&amp;tn=baiduhome_pg&amp;usm=5&amp;ie=utf-8&amp;rsv_cq=%E6%98%8E%E6%98%9F&amp;rsv_dl=0_left_exactqa_28266')\n",
      "('杨紫', 'https://dss0.baidu.com/6ONWsjip0QIZ8tyhnq/it/u=2750998680,3202774404&amp;fm=58&amp;app=83&amp;f=JPEG?w=250&amp;h=250&amp;s=50251F704B234A191C4C31D30300C0A2\"></a></p><p class=\"c-gap-top-small', '/s?wd=%E6%9D%A8%E7%B4%AB&amp;rsv_idx=2&amp;tn=baiduhome_pg&amp;usm=5&amp;ie=utf-8&amp;rsv_cq=%E6%98%8E%E6%98%9F&amp;rsv_dl=0_left_exactqa_28266')\n",
      "('张予曦', 'https://dss2.baidu.com/6ONYsjip0QIZ8tyhnq/it/u=3056604890,3252334590&amp;fm=58&amp;app=83&amp;f=JPEG?w=250&amp;h=250&amp;s=D7B10B6556136FD452AD5CE90300E0A0\"></a></p><p class=\"c-gap-top-small', '/s?wd=%E5%BC%A0%E4%BA%88%E6%9B%A6&amp;rsv_idx=2&amp;tn=baiduhome_pg&amp;usm=5&amp;ie=utf-8&amp;rsv_cq=%E6%98%8E%E6%98%9F&amp;rsv_dl=0_left_exactqa_28266')\n",
      "('李沁', 'https://dss1.baidu.com/6ONXsjip0QIZ8tyhnq/it/u=289838398,721253689&amp;fm=58&amp;app=83&amp;f=JPEG?w=250&amp;h=250&amp;s=88011F700523430118DC6CCA0100E0B2\"></a></p><p class=\"c-gap-top-small', '/s?wd=%E6%9D%8E%E6%B2%81&amp;rsv_idx=2&amp;tn=baiduhome_pg&amp;usm=5&amp;ie=utf-8&amp;rsv_cq=%E6%98%8E%E6%98%9F&amp;rsv_dl=0_left_exactqa_28266')\n",
      "('佟丽娅', 'https://dss1.baidu.com/6ONXsjip0QIZ8tyhnq/it/u=1959205732,3947920150&amp;fm=58&amp;app=83&amp;f=JPEG?w=250&amp;h=250&amp;s=7D2BBF578A335784329870E90300A068\"></a></p><p class=\"c-gap-top-small', '/s?wd=%E4%BD%9F%E4%B8%BD%E5%A8%85&amp;rsv_idx=2&amp;tn=baiduhome_pg&amp;usm=5&amp;ie=utf-8&amp;rsv_cq=%E6%98%8E%E6%98%9F&amp;rsv_dl=0_left_exactqa_28266')\n",
      "('童瑶', 'https://dss0.baidu.com/6ONWsjip0QIZ8tyhnq/it/u=2621359128,1148334908&amp;fm=58&amp;app=83&amp;f=JPEG?w=250&amp;h=250\"></a></p><p class=\"c-gap-top-small', '/s?wd=%E7%AB%A5%E7%91%B6&amp;rsv_idx=2&amp;tn=baiduhome_pg&amp;usm=5&amp;ie=utf-8&amp;rsv_cq=%E6%98%8E%E6%98%9F&amp;rsv_dl=0_left_exactqa_28266')\n",
      "('古力娜扎', 'https://dss0.baidu.com/6ONWsjip0QIZ8tyhnq/it/u=1851680403,1041052586&amp;fm=58&amp;app=83&amp;f=JPEG?w=250&amp;h=250&amp;s=0003DD14E8F26FB5D32C2DA2030030E1\"></a></p><p class=\"c-gap-top-small', '/s?wd=%E5%8F%A4%E5%8A%9B%E5%A8%9C%E6%89%8E&amp;rsv_idx=2&amp;tn=baiduhome_pg&amp;usm=5&amp;ie=utf-8&amp;rsv_cq=%E6%98%8E%E6%98%9F&amp;rsv_dl=0_left_exactqa_28266')\n",
      "('刘涛', 'https://dss1.baidu.com/6ONXsjip0QIZ8tyhnq/it/u=3015639301,787232821&amp;fm=58&amp;app=83&amp;f=JPEG?w=250&amp;h=250&amp;s=1A21716CD432059C95E872980300C09C\"></a></p><p class=\"c-gap-top-small', '/s?wd=%E5%88%98%E6%B6%9B&amp;rsv_idx=2&amp;tn=baiduhome_pg&amp;usm=5&amp;ie=utf-8&amp;rsv_cq=%E6%98%8E%E6%98%9F&amp;rsv_dl=0_left_exactqa_28266')\n",
      "('陈数', 'https://dss2.baidu.com/6ONYsjip0QIZ8tyhnq/it/u=4259027258,1285449099&amp;fm=58&amp;app=83&amp;f=JPEG?w=250&amp;h=250&amp;s=5E228744BECB62D414CCF8070100F0C1\"></a></p><p class=\"c-gap-top-small', '/s?wd=%E9%99%88%E6%95%B0&amp;rsv_idx=2&amp;tn=baiduhome_pg&amp;usm=5&amp;ie=utf-8&amp;rsv_cq=%E6%98%8E%E6%98%9F&amp;rsv_dl=0_left_exactqa_28266')\n"
     ]
    },
    {
     "name": "stdout",
     "output_type": "stream",
     "text": [
      "('张钧甯', 'https://dss1.baidu.com/6ONXsjip0QIZ8tyhnq/it/u=309941071,1317020575&amp;fm=58&amp;app=83&amp;f=JPEG?w=250&amp;h=250&amp;s=27D21EC9E473059CF48CEC9A03009093\"></a></p><p class=\"c-gap-top-small', '/s?wd=%E5%BC%A0%E9%92%A7%E7%94%AF&amp;rsv_idx=2&amp;tn=baiduhome_pg&amp;usm=5&amp;ie=utf-8&amp;rsv_cq=%E6%98%8E%E6%98%9F&amp;rsv_dl=0_left_exactqa_28266')\n",
      "('袁姗姗', 'https://dss1.baidu.com/6ONXsjip0QIZ8tyhnq/it/u=368862529,127738755&amp;fm=58&amp;app=83&amp;f=JPEG?w=250&amp;h=250&amp;s=31B0653713126FCC185509E30300E022\"></a></p><p class=\"c-gap-top-small', '/s?wd=%E8%A2%81%E5%A7%97%E5%A7%97&amp;rsv_idx=2&amp;tn=baiduhome_pg&amp;usm=5&amp;ie=utf-8&amp;rsv_cq=%E6%98%8E%E6%98%9F&amp;rsv_dl=0_left_exactqa_28266')\n",
      "('江疏影', 'https://dss2.baidu.com/6ONYsjip0QIZ8tyhnq/it/u=3233989295,3425791708&amp;fm=58&amp;app=83&amp;f=JPEG?w=250&amp;h=250&amp;s=B581793366334B8062E87DEA0300E022\"></a></p><p class=\"c-gap-top-small', '/s?wd=%E6%B1%9F%E7%96%8F%E5%BD%B1&amp;rsv_idx=2&amp;tn=baiduhome_pg&amp;usm=5&amp;ie=utf-8&amp;rsv_cq=%E6%98%8E%E6%98%9F&amp;rsv_dl=0_left_exactqa_28266')\n",
      "('张佳宁', 'https://dss0.baidu.com/6ONWsjip0QIZ8tyhnq/it/u=3056112825,195422886&amp;fm=58&amp;app=83&amp;f=JPEG?w=250&amp;h=250&amp;s=F0851F7425E34B0515EC35D3030080B0\"></a></p><p class=\"c-gap-top-small', '/s?wd=%E5%BC%A0%E4%BD%B3%E5%AE%81&amp;rsv_idx=2&amp;tn=baiduhome_pg&amp;usm=5&amp;ie=utf-8&amp;rsv_cq=%E6%98%8E%E6%98%9F&amp;rsv_dl=0_left_exactqa_28266')\n",
      "('邓紫棋', 'https://dss2.baidu.com/6ONYsjip0QIZ8tyhnq/it/u=3626171984,3985110998&amp;fm=58&amp;app=83&amp;f=JPEG?w=250&amp;h=250&amp;s=5D88AB57630366F491284D6303002060\"></a></p><p class=\"c-gap-top-small', '/s?wd=%E9%82%93%E7%B4%AB%E6%A3%8B&amp;rsv_idx=2&amp;tn=baiduhome_pg&amp;usm=5&amp;ie=utf-8&amp;rsv_cq=%E6%98%8E%E6%98%9F&amp;rsv_dl=0_left_exactqa_28266')\n",
      "('王菲', 'https://dss1.baidu.com/6ONXsjip0QIZ8tyhnq/it/u=3537708184,399118104&amp;fm=58&amp;app=83&amp;f=JPEG?w=250&amp;h=250&amp;s=3FA0AC096E4274C414AD66F9030070B6\"></a></p><p class=\"c-gap-top-small', '/s?wd=%E7%8E%8B%E8%8F%B2&amp;rsv_idx=2&amp;tn=baiduhome_pg&amp;usm=5&amp;ie=utf-8&amp;rsv_cq=%E6%98%8E%E6%98%9F&amp;rsv_dl=0_left_exactqa_28266')\n",
      "('张子枫', 'https://dss0.baidu.com/6ONWsjip0QIZ8tyhnq/it/u=513955104,1612724562&amp;fm=58&amp;app=83&amp;f=JPEG?w=250&amp;h=250&amp;s=C8011F704B025B51066855DF030030B2\"></a></p><p class=\"c-gap-top-small', '/s?wd=%E5%BC%A0%E5%AD%90%E6%9E%AB&amp;rsv_idx=2&amp;tn=baiduhome_pg&amp;usm=5&amp;ie=utf-8&amp;rsv_cq=%E6%98%8E%E6%98%9F&amp;rsv_dl=0_left_exactqa_28266')\n",
      "('李小璐', 'https://dss2.baidu.com/6ONYsjip0QIZ8tyhnq/it/u=1699896983,967146837&amp;fm=58&amp;app=83&amp;f=JPEG?w=250&amp;h=250&amp;s=ED88BB577F72729CBC08195E03008060\"></a></p><p class=\"c-gap-top-small', '/s?wd=%E6%9D%8E%E5%B0%8F%E7%92%90&amp;rsv_idx=2&amp;tn=baiduhome_pg&amp;usm=5&amp;ie=utf-8&amp;rsv_cq=%E6%98%8E%E6%98%9F&amp;rsv_dl=0_left_exactqa_28266')\n",
      "('鞠婧祎', 'https://dss2.baidu.com/6ONYsjip0QIZ8tyhnq/it/u=2361396767,3933798170&amp;fm=58&amp;app=83&amp;f=JPEG?w=250&amp;h=250&amp;s=EDA6A55774E956B4D68079630300E063\"></a></p><p class=\"c-gap-top-small', '/s?wd=%E9%9E%A0%E5%A9%A7%E7%A5%8E&amp;rsv_idx=2&amp;tn=baiduhome_pg&amp;usm=5&amp;ie=utf-8&amp;rsv_cq=%E6%98%8E%E6%98%9F&amp;rsv_dl=0_left_exactqa_28266')\n",
      "('高圆圆', 'https://dss2.baidu.com/6ONYsjip0QIZ8tyhnq/it/u=2097092336,1941651614&amp;fm=58&amp;app=83&amp;f=JPEG?w=250&amp;h=250&amp;s=FD3AA75766A96311842231C60300F0A0\"></a></p><p class=\"c-gap-top-small', '/s?wd=%E9%AB%98%E5%9C%86%E5%9C%86&amp;rsv_idx=2&amp;tn=baiduhome_pg&amp;usm=5&amp;ie=utf-8&amp;rsv_cq=%E6%98%8E%E6%98%9F&amp;rsv_dl=0_left_exactqa_28266')\n",
      "('柳岩', 'https://dss1.baidu.com/6ONXsjip0QIZ8tyhnq/it/u=3020181937,2599660329&amp;fm=58&amp;app=83&amp;f=JPEG?w=250&amp;h=250&amp;s=EFBBA3470E3F43924DBD1D3703008060\"></a></p><p class=\"c-gap-top-small', '/s?wd=%E6%9F%B3%E5%B2%A9&amp;rsv_idx=2&amp;tn=baiduhome_pg&amp;usm=5&amp;ie=utf-8&amp;rsv_cq=%E6%98%8E%E6%98%9F&amp;rsv_dl=0_left_exactqa_28266')\n",
      "('韩雪', 'https://dss1.baidu.com/6ONXsjip0QIZ8tyhnq/it/u=3600249565,2387440872&amp;fm=58&amp;app=83&amp;f=JPEG?w=250&amp;h=250&amp;s=3C38C7154EB75B80769D6DCE0300A032\"></a></p><p class=\"c-gap-top-small', '/s?wd=%E9%9F%A9%E9%9B%AA&amp;rsv_idx=2&amp;tn=baiduhome_pg&amp;usm=5&amp;ie=utf-8&amp;rsv_cq=%E6%98%8E%E6%98%9F&amp;rsv_dl=0_left_exactqa_28266')\n",
      "('王子文', 'https://dss0.baidu.com/6ONWsjip0QIZ8tyhnq/it/u=199276572,229226206&amp;fm=58&amp;app=83&amp;f=JPEG?w=250&amp;h=250&amp;s=EFFB05C7D4D8C7D45D78B0870300D0C3\"></a></p><p class=\"c-gap-top-small', '/s?wd=%E7%8E%8B%E5%AD%90%E6%96%87&amp;rsv_idx=2&amp;tn=baiduhome_pg&amp;usm=5&amp;ie=utf-8&amp;rsv_cq=%E6%98%8E%E6%98%9F&amp;rsv_dl=0_left_exactqa_28266')\n",
      "('戚薇', 'https://dss1.baidu.com/6ONXsjip0QIZ8tyhnq/it/u=1168704742,125587549&amp;fm=58&amp;app=83&amp;f=JPEG?w=250&amp;h=250&amp;s=A92A8E1B5811F9ED06A0D9E7030070A6\"></a></p><p class=\"c-gap-top-small', '/s?wd=%E6%88%9A%E8%96%87&amp;rsv_idx=2&amp;tn=baiduhome_pg&amp;usm=5&amp;ie=utf-8&amp;rsv_cq=%E6%98%8E%E6%98%9F&amp;rsv_dl=0_left_exactqa_28266')\n",
      "('景甜', 'https://dss0.baidu.com/6ONWsjip0QIZ8tyhnq/it/u=3230066211,236494516&amp;fm=58&amp;app=83&amp;f=JPEG?w=250&amp;h=250&amp;s=2700994FCC76089CE28864BA0300C012\"></a></p><p class=\"c-gap-top-small', '/s?wd=%E6%99%AF%E7%94%9C&amp;rsv_idx=2&amp;tn=baiduhome_pg&amp;usm=5&amp;ie=utf-8&amp;rsv_cq=%E6%98%8E%E6%98%9F&amp;rsv_dl=0_left_exactqa_28266')\n",
      "('张子萱', 'https://dss2.baidu.com/6ONYsjip0QIZ8tyhnq/it/u=3502181786,1709070224&amp;fm=58&amp;app=83&amp;f=JPEG?w=250&amp;h=250&amp;s=F3905D81A6E252B4DC8C64BA0300C0A0\"></a></p><p class=\"c-gap-top-small', '/s?wd=%E5%BC%A0%E5%AD%90%E8%90%B1&amp;rsv_idx=2&amp;tn=baiduhome_pg&amp;usm=5&amp;ie=utf-8&amp;rsv_cq=%E6%98%8E%E6%98%9F&amp;rsv_dl=0_left_exactqa_28266')\n",
      "('孙俪', 'https://dss2.baidu.com/6ONYsjip0QIZ8tyhnq/it/u=2733908600,4187883349&amp;fm=58&amp;app=83&amp;f=JPEG?w=250&amp;h=250&amp;s=2780BC4DCC330984A13C04F903008012\"></a></p><p class=\"c-gap-top-small', '/s?wd=%E5%AD%99%E4%BF%AA&amp;rsv_idx=2&amp;tn=baiduhome_pg&amp;usm=5&amp;ie=utf-8&amp;rsv_cq=%E6%98%8E%E6%98%9F&amp;rsv_dl=0_left_exactqa_28266')\n",
      "('蒋欣', 'https://dss1.baidu.com/6ONXsjip0QIZ8tyhnq/it/u=3814744204,4201978386&amp;fm=58&amp;app=83&amp;f=JPEG?w=250&amp;h=250&amp;s=B6101CCE928230FCC825D93303008048\"></a></p><p class=\"c-gap-top-small', '/s?wd=%E8%92%8B%E6%AC%A3&amp;rsv_idx=2&amp;tn=baiduhome_pg&amp;usm=5&amp;ie=utf-8&amp;rsv_cq=%E6%98%8E%E6%98%9F&amp;rsv_dl=0_left_exactqa_28266')\n",
      "('张雨绮', 'https://dss0.baidu.com/6ONWsjip0QIZ8tyhnq/it/u=4139718645,176666345&amp;fm=58&amp;app=83&amp;f=JPEG?w=250&amp;h=250&amp;s=6DC6C70C000317FD1FC4DC860300C080\"></a></p><p class=\"c-gap-top-small', '/s?wd=%E5%BC%A0%E9%9B%A8%E7%BB%AE&amp;rsv_idx=2&amp;tn=baiduhome_pg&amp;usm=5&amp;ie=utf-8&amp;rsv_cq=%E6%98%8E%E6%98%9F&amp;rsv_dl=0_left_exactqa_28266')\n",
      "('姚笛', 'https://dss1.baidu.com/6ONXsjip0QIZ8tyhnq/it/u=676425562,3362618974&amp;fm=58&amp;app=83&amp;f=JPEG?w=250&amp;h=250&amp;s=B9A0CB1417937BD4787095DD0300C0A0\"></a></p><p class=\"c-gap-top-small', '/s?wd=%E5%A7%9A%E7%AC%9B&amp;rsv_idx=2&amp;tn=baiduhome_pg&amp;usm=5&amp;ie=utf-8&amp;rsv_cq=%E6%98%8E%E6%98%9F&amp;rsv_dl=0_left_exactqa_28266')\n",
      "('周冬雨', 'https://dss1.baidu.com/6ONXsjip0QIZ8tyhnq/it/u=3138486823,1482659910&amp;fm=58&amp;app=83&amp;f=JPEG?w=250&amp;h=250&amp;s=BF8CAC44F423551D60AC7DD80300C09E\"></a></p><p class=\"c-gap-top-small', '/s?wd=%E5%91%A8%E5%86%AC%E9%9B%A8&amp;rsv_idx=2&amp;tn=baiduhome_pg&amp;usm=5&amp;ie=utf-8&amp;rsv_cq=%E6%98%8E%E6%98%9F&amp;rsv_dl=0_left_exactqa_28266')\n",
      "('王鸥', 'https://dss1.baidu.com/6ONXsjip0QIZ8tyhnq/it/u=2940111601,2622188067&amp;fm=58&amp;app=83&amp;f=JPEG?w=250&amp;h=250&amp;s=B020DF117B9976DC34A488EA0300D021\"></a></p><p class=\"c-gap-top-small', '/s?wd=%E7%8E%8B%E9%B8%A5&amp;rsv_idx=2&amp;tn=baiduhome_pg&amp;usm=5&amp;ie=utf-8&amp;rsv_cq=%E6%98%8E%E6%98%9F&amp;rsv_dl=0_left_exactqa_28266')\n",
      "('张歆艺', 'https://dss2.baidu.com/6ONYsjip0QIZ8tyhnq/it/u=1530408002,2234852384&amp;fm=58&amp;app=83&amp;f=JPEG?w=250&amp;h=250&amp;s=4FA028C40E3A0596078162B003006093\"></a></p><p class=\"c-gap-top-small', '/s?wd=%E5%BC%A0%E6%AD%86%E8%89%BA&amp;rsv_idx=2&amp;tn=baiduhome_pg&amp;usm=5&amp;ie=utf-8&amp;rsv_cq=%E6%98%8E%E6%98%9F&amp;rsv_dl=0_left_exactqa_28266')\n",
      "('白百何', 'https://dss2.baidu.com/6ONYsjip0QIZ8tyhnq/it/u=1245744866,1742892047&amp;fm=58&amp;app=83&amp;f=JPEG?w=250&amp;h=250&amp;s=D01031D56E4368D4023099B30300C041\"></a></p><p class=\"c-gap-top-small', '/s?wd=%E7%99%BD%E7%99%BE%E4%BD%95&amp;rsv_idx=2&amp;tn=baiduhome_pg&amp;usm=5&amp;ie=utf-8&amp;rsv_cq=%E6%98%8E%E6%98%9F&amp;rsv_dl=0_left_exactqa_28266')\n"
     ]
    },
    {
     "name": "stdout",
     "output_type": "stream",
     "text": [
      "('谢娜', 'https://dss1.baidu.com/6ONXsjip0QIZ8tyhnq/it/u=1213474585,1115121354&amp;fm=58&amp;app=83&amp;f=JPEG?w=250&amp;h=250&amp;s=A9011F707AD2A69CFD0059E7010030A0\"></a></p><p class=\"c-gap-top-small', '/s?wd=%E8%B0%A2%E5%A8%9C&amp;rsv_idx=2&amp;tn=baiduhome_pg&amp;usm=5&amp;ie=utf-8&amp;rsv_cq=%E6%98%8E%E6%98%9F&amp;rsv_dl=0_left_exactqa_28266')\n",
      "('王丽坤', 'https://dss0.baidu.com/6ONWsjip0QIZ8tyhnq/it/u=1490983347,2925332589&amp;fm=58&amp;app=83&amp;f=JPEG?w=250&amp;h=250&amp;s=A51EA37F66E066B5451D45F703007062\"></a></p><p class=\"c-gap-top-small', '/s?wd=%E7%8E%8B%E4%B8%BD%E5%9D%A4&amp;rsv_idx=2&amp;tn=baiduhome_pg&amp;usm=5&amp;ie=utf-8&amp;rsv_cq=%E6%98%8E%E6%98%9F&amp;rsv_dl=0_left_exactqa_28266')\n",
      "('宋佳', 'https://dss0.baidu.com/6ONWsjip0QIZ8tyhnq/it/u=161902860,1751201018&amp;fm=58&amp;app=83&amp;f=JPEG?w=250&amp;h=250&amp;s=1F86D70557634D1D586820D9030080BB\"></a></p><p class=\"c-gap-top-small', '/s?wd=%E5%AE%8B%E4%BD%B3&amp;rsv_idx=2&amp;tn=baiduhome_pg&amp;usm=5&amp;ie=utf-8&amp;rsv_cq=%E6%98%8E%E6%98%9F&amp;rsv_dl=0_left_exactqa_28266')\n",
      "('张天爱', 'https://dss1.baidu.com/6ONXsjip0QIZ8tyhnq/it/u=1840525135,1893554908&amp;fm=58&amp;app=83&amp;f=JPEG?w=250&amp;h=250&amp;s=EA00CB00F8B3A2947C0D49A70300E0E0\"></a></p><p class=\"c-gap-top-small', '/s?wd=%E5%BC%A0%E5%A4%A9%E7%88%B1&amp;rsv_idx=2&amp;tn=baiduhome_pg&amp;usm=5&amp;ie=utf-8&amp;rsv_cq=%E6%98%8E%E6%98%9F&amp;rsv_dl=0_left_exactqa_28266')\n",
      "('程潇', 'https://dss0.baidu.com/6ONWsjip0QIZ8tyhnq/it/u=2713145520,3079496697&amp;fm=58&amp;app=83&amp;f=JPEG?w=250&amp;h=250&amp;s=BDE4D714D0B4559C961D7CE90300E0B0\"></a></p><p class=\"c-gap-top-small', '/s?wd=%E7%A8%8B%E6%BD%87&amp;rsv_idx=2&amp;tn=baiduhome_pg&amp;usm=5&amp;ie=utf-8&amp;rsv_cq=%E6%98%8E%E6%98%9F&amp;rsv_dl=0_left_exactqa_28266')\n",
      "('赵薇', 'https://dss0.baidu.com/6ONWsjip0QIZ8tyhnq/it/u=1661040678,2565411529&amp;fm=58&amp;app=83&amp;f=JPEG?w=250&amp;h=250&amp;s=EBE09B442E1346DC06046DA003008083\"></a></p><p class=\"c-gap-top-small', '/s?wd=%E8%B5%B5%E8%96%87&amp;rsv_idx=2&amp;tn=baiduhome_pg&amp;usm=5&amp;ie=utf-8&amp;rsv_cq=%E6%98%8E%E6%98%9F&amp;rsv_dl=0_left_exactqa_28266')\n",
      "('倪妮', 'https://dss0.baidu.com/6ONWsjip0QIZ8tyhnq/it/u=2886217029,3541998419&amp;fm=58&amp;app=83&amp;f=JPEG?w=250&amp;h=250&amp;s=0AC3F90474C286BC8B0C9D950300C0A0\"></a></p><p class=\"c-gap-top-small', '/s?wd=%E5%80%AA%E5%A6%AE&amp;rsv_idx=2&amp;tn=baiduhome_pg&amp;usm=5&amp;ie=utf-8&amp;rsv_cq=%E6%98%8E%E6%98%9F&amp;rsv_dl=0_left_exactqa_28266')\n",
      "('本兮', 'https://dss0.baidu.com/6ONWsjip0QIZ8tyhnq/it/u=2023962162,1291348658&amp;fm=58&amp;app=83&amp;f=JPEG?w=250&amp;h=250&amp;s=5E622FC4EAD902DC00E9BC380300D044\"></a></p><p class=\"c-gap-top-small', '/s?wd=%E6%9C%AC%E5%85%AE&amp;rsv_idx=2&amp;tn=baiduhome_pg&amp;usm=5&amp;ie=utf-8&amp;rsv_cq=%E6%98%8E%E6%98%9F&amp;rsv_dl=0_left_exactqa_28266')\n",
      "('周迅', 'https://dss1.baidu.com/6ONXsjip0QIZ8tyhnq/it/u=3731861527,1836074925&amp;fm=58&amp;app=83&amp;f=JPEG?w=250&amp;h=250&amp;s=A3F6E723E8333294210C48B20300E0C0\"></a></p><p class=\"c-gap-top-small', '/s?wd=%E5%91%A8%E8%BF%85&amp;rsv_idx=2&amp;tn=baiduhome_pg&amp;usm=5&amp;ie=utf-8&amp;rsv_cq=%E6%98%8E%E6%98%9F&amp;rsv_dl=0_left_exactqa_28266')\n",
      "('黄圣依', 'https://dss0.baidu.com/6ONWsjip0QIZ8tyhnq/it/u=3838542768,1423246876&amp;fm=58&amp;app=83&amp;f=JPEG?w=250&amp;h=250&amp;s=38181BD13E63311DEE14419D03008042\"></a></p><p class=\"c-gap-top-small', '/s?wd=%E9%BB%84%E5%9C%A3%E4%BE%9D&amp;rsv_idx=2&amp;tn=baiduhome_pg&amp;usm=5&amp;ie=utf-8&amp;rsv_cq=%E6%98%8E%E6%98%9F&amp;rsv_dl=0_left_exactqa_28266')\n",
      "('霍思燕', 'https://dss2.baidu.com/6ONYsjip0QIZ8tyhnq/it/u=3884459780,2851870879&amp;fm=58&amp;app=83&amp;f=JPG?w=250&amp;h=250&amp;s=5F943BC5467B079462817408030020D2\"></a></p><p class=\"c-gap-top-small', '/s?wd=%E9%9C%8D%E6%80%9D%E7%87%95&amp;rsv_idx=2&amp;tn=baiduhome_pg&amp;usm=5&amp;ie=utf-8&amp;rsv_cq=%E6%98%8E%E6%98%9F&amp;rsv_dl=0_left_exactqa_28266')\n",
      "('章子怡', 'https://dss1.baidu.com/6ONXsjip0QIZ8tyhnq/it/u=1010429515,1296269091&amp;fm=58&amp;app=83&amp;f=JPEG?w=250&amp;h=250&amp;s=9825E9142CF1C49487AC4CDC0300C0BA\"></a></p><p class=\"c-gap-top-small', '/s?wd=%E7%AB%A0%E5%AD%90%E6%80%A1&amp;rsv_idx=2&amp;tn=baiduhome_pg&amp;usm=5&amp;ie=utf-8&amp;rsv_cq=%E6%98%8E%E6%98%9F&amp;rsv_dl=0_left_exactqa_28266')\n"
     ]
    },
    {
     "ename": "WebDriverException",
     "evalue": "Message: chrome not reachable\n  (Session info: chrome=81.0.4044.138)\n",
     "output_type": "error",
     "traceback": [
      "\u001b[1;31m---------------------------------------------------------------------------\u001b[0m",
      "\u001b[1;31mWebDriverException\u001b[0m                        Traceback (most recent call last)",
      "\u001b[1;32m<ipython-input-3-26bf917fc957>\u001b[0m in \u001b[0;36m<module>\u001b[1;34m\u001b[0m\n\u001b[0;32m      1\u001b[0m \u001b[0mlist\u001b[0m \u001b[1;33m=\u001b[0m \u001b[1;33m[\u001b[0m\u001b[1;33m]\u001b[0m\u001b[1;33m\u001b[0m\u001b[1;33m\u001b[0m\u001b[0m\n\u001b[0;32m      2\u001b[0m \u001b[1;32mwhile\u001b[0m \u001b[1;32mTrue\u001b[0m\u001b[1;33m:\u001b[0m\u001b[1;33m\u001b[0m\u001b[1;33m\u001b[0m\u001b[0m\n\u001b[1;32m----> 3\u001b[1;33m     \u001b[0mhtml\u001b[0m \u001b[1;33m=\u001b[0m \u001b[0mdriver\u001b[0m\u001b[1;33m.\u001b[0m\u001b[0mpage_source\u001b[0m\u001b[1;33m\u001b[0m\u001b[1;33m\u001b[0m\u001b[0m\n\u001b[0m\u001b[0;32m      4\u001b[0m     \u001b[0mreobj\u001b[0m\u001b[1;33m=\u001b[0m\u001b[0mre\u001b[0m\u001b[1;33m.\u001b[0m\u001b[0mcompile\u001b[0m\u001b[1;33m(\u001b[0m\u001b[1;34mr'rsv_dl=0_left_exactqa_28266\" title=\"([\\d\\D]*?)\" target=\"_blank\"><img class=\"c-img c-img4\" src=\"([\\d\\D]*?)\"><a href=\"([\\d\\D]*?)\"'\u001b[0m\u001b[1;33m)\u001b[0m\u001b[1;33m\u001b[0m\u001b[1;33m\u001b[0m\u001b[0m\n\u001b[0;32m      5\u001b[0m     \u001b[1;32mfor\u001b[0m \u001b[0mmatch\u001b[0m \u001b[1;32min\u001b[0m \u001b[0mreobj\u001b[0m\u001b[1;33m.\u001b[0m\u001b[0mfinditer\u001b[0m\u001b[1;33m(\u001b[0m\u001b[0mhtml\u001b[0m\u001b[1;33m)\u001b[0m\u001b[1;33m:\u001b[0m\u001b[1;33m\u001b[0m\u001b[1;33m\u001b[0m\u001b[0m\n",
      "\u001b[1;32m~\\AppData\\Local\\Continuum\\anaconda3\\lib\\site-packages\\selenium\\webdriver\\remote\\webdriver.py\u001b[0m in \u001b[0;36mpage_source\u001b[1;34m(self)\u001b[0m\n\u001b[0;32m    677\u001b[0m             \u001b[0mdriver\u001b[0m\u001b[1;33m.\u001b[0m\u001b[0mpage_source\u001b[0m\u001b[1;33m\u001b[0m\u001b[1;33m\u001b[0m\u001b[0m\n\u001b[0;32m    678\u001b[0m         \"\"\"\n\u001b[1;32m--> 679\u001b[1;33m         \u001b[1;32mreturn\u001b[0m \u001b[0mself\u001b[0m\u001b[1;33m.\u001b[0m\u001b[0mexecute\u001b[0m\u001b[1;33m(\u001b[0m\u001b[0mCommand\u001b[0m\u001b[1;33m.\u001b[0m\u001b[0mGET_PAGE_SOURCE\u001b[0m\u001b[1;33m)\u001b[0m\u001b[1;33m[\u001b[0m\u001b[1;34m'value'\u001b[0m\u001b[1;33m]\u001b[0m\u001b[1;33m\u001b[0m\u001b[1;33m\u001b[0m\u001b[0m\n\u001b[0m\u001b[0;32m    680\u001b[0m \u001b[1;33m\u001b[0m\u001b[0m\n\u001b[0;32m    681\u001b[0m     \u001b[1;32mdef\u001b[0m \u001b[0mclose\u001b[0m\u001b[1;33m(\u001b[0m\u001b[0mself\u001b[0m\u001b[1;33m)\u001b[0m\u001b[1;33m:\u001b[0m\u001b[1;33m\u001b[0m\u001b[1;33m\u001b[0m\u001b[0m\n",
      "\u001b[1;32m~\\AppData\\Local\\Continuum\\anaconda3\\lib\\site-packages\\selenium\\webdriver\\remote\\webdriver.py\u001b[0m in \u001b[0;36mexecute\u001b[1;34m(self, driver_command, params)\u001b[0m\n\u001b[0;32m    319\u001b[0m         \u001b[0mresponse\u001b[0m \u001b[1;33m=\u001b[0m \u001b[0mself\u001b[0m\u001b[1;33m.\u001b[0m\u001b[0mcommand_executor\u001b[0m\u001b[1;33m.\u001b[0m\u001b[0mexecute\u001b[0m\u001b[1;33m(\u001b[0m\u001b[0mdriver_command\u001b[0m\u001b[1;33m,\u001b[0m \u001b[0mparams\u001b[0m\u001b[1;33m)\u001b[0m\u001b[1;33m\u001b[0m\u001b[1;33m\u001b[0m\u001b[0m\n\u001b[0;32m    320\u001b[0m         \u001b[1;32mif\u001b[0m \u001b[0mresponse\u001b[0m\u001b[1;33m:\u001b[0m\u001b[1;33m\u001b[0m\u001b[1;33m\u001b[0m\u001b[0m\n\u001b[1;32m--> 321\u001b[1;33m             \u001b[0mself\u001b[0m\u001b[1;33m.\u001b[0m\u001b[0merror_handler\u001b[0m\u001b[1;33m.\u001b[0m\u001b[0mcheck_response\u001b[0m\u001b[1;33m(\u001b[0m\u001b[0mresponse\u001b[0m\u001b[1;33m)\u001b[0m\u001b[1;33m\u001b[0m\u001b[1;33m\u001b[0m\u001b[0m\n\u001b[0m\u001b[0;32m    322\u001b[0m             response['value'] = self._unwrap_value(\n\u001b[0;32m    323\u001b[0m                 response.get('value', None))\n",
      "\u001b[1;32m~\\AppData\\Local\\Continuum\\anaconda3\\lib\\site-packages\\selenium\\webdriver\\remote\\errorhandler.py\u001b[0m in \u001b[0;36mcheck_response\u001b[1;34m(self, response)\u001b[0m\n\u001b[0;32m    240\u001b[0m                 \u001b[0malert_text\u001b[0m \u001b[1;33m=\u001b[0m \u001b[0mvalue\u001b[0m\u001b[1;33m[\u001b[0m\u001b[1;34m'alert'\u001b[0m\u001b[1;33m]\u001b[0m\u001b[1;33m.\u001b[0m\u001b[0mget\u001b[0m\u001b[1;33m(\u001b[0m\u001b[1;34m'text'\u001b[0m\u001b[1;33m)\u001b[0m\u001b[1;33m\u001b[0m\u001b[1;33m\u001b[0m\u001b[0m\n\u001b[0;32m    241\u001b[0m             \u001b[1;32mraise\u001b[0m \u001b[0mexception_class\u001b[0m\u001b[1;33m(\u001b[0m\u001b[0mmessage\u001b[0m\u001b[1;33m,\u001b[0m \u001b[0mscreen\u001b[0m\u001b[1;33m,\u001b[0m \u001b[0mstacktrace\u001b[0m\u001b[1;33m,\u001b[0m \u001b[0malert_text\u001b[0m\u001b[1;33m)\u001b[0m\u001b[1;33m\u001b[0m\u001b[1;33m\u001b[0m\u001b[0m\n\u001b[1;32m--> 242\u001b[1;33m         \u001b[1;32mraise\u001b[0m \u001b[0mexception_class\u001b[0m\u001b[1;33m(\u001b[0m\u001b[0mmessage\u001b[0m\u001b[1;33m,\u001b[0m \u001b[0mscreen\u001b[0m\u001b[1;33m,\u001b[0m \u001b[0mstacktrace\u001b[0m\u001b[1;33m)\u001b[0m\u001b[1;33m\u001b[0m\u001b[1;33m\u001b[0m\u001b[0m\n\u001b[0m\u001b[0;32m    243\u001b[0m \u001b[1;33m\u001b[0m\u001b[0m\n\u001b[0;32m    244\u001b[0m     \u001b[1;32mdef\u001b[0m \u001b[0m_value_or_default\u001b[0m\u001b[1;33m(\u001b[0m\u001b[0mself\u001b[0m\u001b[1;33m,\u001b[0m \u001b[0mobj\u001b[0m\u001b[1;33m,\u001b[0m \u001b[0mkey\u001b[0m\u001b[1;33m,\u001b[0m \u001b[0mdefault\u001b[0m\u001b[1;33m)\u001b[0m\u001b[1;33m:\u001b[0m\u001b[1;33m\u001b[0m\u001b[1;33m\u001b[0m\u001b[0m\n",
      "\u001b[1;31mWebDriverException\u001b[0m: Message: chrome not reachable\n  (Session info: chrome=81.0.4044.138)\n"
     ]
    }
   ],
   "source": [
    "list = []\n",
    "while True:\n",
    "    html = driver.page_source  \n",
    "    reobj=re.compile(r'rsv_dl=0_left_exactqa_28266\" title=\"([\\d\\D]*?)\" target=\"_blank\"><img class=\"c-img c-img4\" src=\"([\\d\\D]*?)\"><a href=\"([\\d\\D]*?)\"')\n",
    "    for match in reobj.finditer(html):   \n",
    "        a=match.group(1)#姓名\n",
    "        b=match.group(2)#图片\n",
    "        c=match.group(3)#详情页链接\n",
    "        d=(a,b,c)\n",
    "        print(d)\n",
    "        list.append(d)\n",
    "    if re.search('<span class=\"opui-page-next OP_LOG_BTN\" style=\"\">下一页</span>', html):\n",
    "        driver.find_element_by_xpath(\"//div[@id='1']/div/div/div[2]/div[2]/p/span[6]\").click() \n",
    "        time.sleep(2)\n",
    "    else:\n",
    "        break"
   ]
  },
  {
   "cell_type": "code",
   "execution_count": null,
   "metadata": {
    "collapsed": true
   },
   "outputs": [],
   "source": [
    "import codecs\n",
    "f = codecs.open(\"D:\\ZHY.csv\",\"w\",\"utf-8-sig\")\n",
    "f.write(\"xingming,tupian,lianjie\\n\")\n",
    "for i in list:\n",
    "   f.write(\",\".join(i)+\"\\n\")\n",
    "f.close()"
   ]
  }
 ],
 "metadata": {
  "kernelspec": {
   "display_name": "Python 3",
   "language": "python",
   "name": "python3"
  },
  "language_info": {
   "codemirror_mode": {
    "name": "ipython",
    "version": 3
   },
   "file_extension": ".py",
   "mimetype": "text/x-python",
   "name": "python",
   "nbconvert_exporter": "python",
   "pygments_lexer": "ipython3",
   "version": "3.6.3"
  }
 },
 "nbformat": 4,
 "nbformat_minor": 2
}
