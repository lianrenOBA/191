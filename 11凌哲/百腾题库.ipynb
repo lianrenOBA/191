{
 "cells": [
  {
   "cell_type": "code",
   "execution_count": 5,
   "metadata": {},
   "outputs": [],
   "source": [
    "urls = [(\"https://pintia.cn/problem-sets/1111652100718116864/problems/type/6\",\"函数题\"),\n",
    "        (\"https://pintia.cn/problem-sets/1111652100718116864/problems/type/7\",\"编程题\")]\n",
    "from selenium import webdriver\n",
    "import re,time\n",
    "driver=webdriver.Chrome()\n",
    "\n",
    "def get_html(url):\n",
    "    driver.get(url)\n",
    "    time.sleep(5)\n",
    "    html=driver.page_source\n",
    "    return html\n",
    "\n",
    "def extract_info(html,category):\n",
    "    import re\n",
    "    results=[]\n",
    "    reobj = re.compile(r'<td class=\"answerIcon_1du7d\"></td><td>([\\d\\D]*?)</td><td><a href=\"([\\d\\D]*?)\" class=\"\">([\\d\\D]*?)</a></td><td>([\\d\\D]*?)</td><td>([\\d\\D]*?)</td><td>([\\d\\D]*?)</td><td>([\\d\\D]*?)</td></tr>')\n",
    "    for match in reobj.finditer(html):\n",
    "        a=match.group(1)\n",
    "        b=\"https://pintia.cn\" +match.group(2)\n",
    "        c=match.group(3)\n",
    "        d=match.group(4)\n",
    "        e=match.group(5)\n",
    "        f=match.group(6)\n",
    "        g=match.group(7)\n",
    "        results.append([category,a,b,c,d,e,f,g])\n",
    "    return results\n",
    "\n",
    "results = []\n",
    "for t in urls:\n",
    "    li = []\n",
    "    url , category = t\n",
    "    html = get_html(url)\n",
    "    li  = extract_info(html,category)\n",
    "    results.extend(li)\n",
    "\n",
    "import codecs\n",
    "f = codecs.open(r\"D:\\baiteng.csv\",\"w\",\"utf-8-sig\")\n",
    "f.write(\"类型,标号,网址,标题,分数,通过数,提交数,通过率\\n\")\n",
    "for i in results:#不需要-1\n",
    "    f.write(i[0]+\",\"+i[1]+\",\"+i[2]+\",\"+i[3]+\",\"+i[4]+\",\"+i[5]+\",\"+i[6]+\",\"+i[7]+\"\\n\")\n",
    "f.close()"
   ]
  },
  {
   "cell_type": "code",
   "execution_count": null,
   "metadata": {},
   "outputs": [],
   "source": []
  }
 ],
 "metadata": {
  "kernelspec": {
   "display_name": "Python 3",
   "language": "python",
   "name": "python3"
  },
  "language_info": {
   "codemirror_mode": {
    "name": "ipython",
    "version": 3
   },
   "file_extension": ".py",
   "mimetype": "text/x-python",
   "name": "python",
   "nbconvert_exporter": "python",
   "pygments_lexer": "ipython3",
   "version": "3.7.4"
  }
 },
 "nbformat": 4,
 "nbformat_minor": 2
}
