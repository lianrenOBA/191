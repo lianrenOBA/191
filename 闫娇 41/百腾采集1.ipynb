{
 "cells": [
  {
   "cell_type": "code",
   "execution_count": 1,
   "metadata": {},
   "outputs": [
    {
     "ename": "ModuleNotFoundError",
     "evalue": "No module named 'selenium'",
     "output_type": "error",
     "traceback": [
      "\u001b[1;31m---------------------------------------------------------------------------\u001b[0m",
      "\u001b[1;31mModuleNotFoundError\u001b[0m                       Traceback (most recent call last)",
      "\u001b[1;32m<ipython-input-1-518b22c5bd77>\u001b[0m in \u001b[0;36m<module>\u001b[1;34m()\u001b[0m\n\u001b[0;32m      5\u001b[0m \u001b[1;32mfor\u001b[0m \u001b[0mi\u001b[0m \u001b[1;32min\u001b[0m \u001b[0murl\u001b[0m\u001b[1;33m:\u001b[0m\u001b[1;33m\u001b[0m\u001b[0m\n\u001b[0;32m      6\u001b[0m     \u001b[0murl\u001b[0m \u001b[1;33m=\u001b[0m \u001b[0mi\u001b[0m\u001b[1;33m\u001b[0m\u001b[0m\n\u001b[1;32m----> 7\u001b[1;33m     \u001b[1;32mfrom\u001b[0m \u001b[0mselenium\u001b[0m \u001b[1;32mimport\u001b[0m \u001b[0mwebdriver\u001b[0m\u001b[1;33m\u001b[0m\u001b[0m\n\u001b[0m\u001b[0;32m      8\u001b[0m     \u001b[1;32mimport\u001b[0m \u001b[0mre\u001b[0m\u001b[1;33m,\u001b[0m\u001b[0mtime\u001b[0m\u001b[1;33m,\u001b[0m\u001b[0mcodecs\u001b[0m\u001b[1;33m\u001b[0m\u001b[0m\n\u001b[0;32m      9\u001b[0m     \u001b[0mdriver\u001b[0m\u001b[1;33m=\u001b[0m\u001b[0mwebdriver\u001b[0m\u001b[1;33m.\u001b[0m\u001b[0mChrome\u001b[0m\u001b[1;33m(\u001b[0m\u001b[1;33m)\u001b[0m\u001b[1;33m\u001b[0m\u001b[0m\n",
      "\u001b[1;31mModuleNotFoundError\u001b[0m: No module named 'selenium'"
     ]
    }
   ],
   "source": [
    "import re,time,codecs\n",
    "tiku = []\n",
    "lj = []\n",
    "url = ('https://pintia.cn/problem-sets/1111652100718116864/problems/type/6','https://pintia.cn/problem-sets/1111652100718116864/problems/type/7')\n",
    "for i in url:\n",
    "    url = i\n",
    "    from selenium import webdriver\n",
    "    import re,time,codecs\n",
    "    driver=webdriver.Chrome()\n",
    "    driver.get(url)\n",
    "    time.sleep(2)\n",
    "    html = driver.page_source\n",
    "    reobj = re.compile(r'<td>([\\d\\D]*?)</td><td><a href=\"([\\d\\D]*?)?\" class=\"\">([\\d\\D]*?)</a></td><td>([\\d\\D]*?)</td><td>([\\d\\D]*?)</td><td>([\\d\\D]*?)</td><td>([\\d\\D]*?)</td></tr><tr><td class=\"answerIcon_1du7d\"></td>')\n",
    "    for match in reobj.finditer(html):\n",
    "        biaohao = match.group(1)#标号\n",
    "        lianjie = \"https://pintia.cn\" + match.group(2)#题目链接\n",
    "        biaoti =  match.group(3)#标题\n",
    "        fenshu = match.group(4)#分数\n",
    "        tongguoshu = match.group(5)#通过数\n",
    "        tijiaoshu = match.group(6)#提交数\n",
    "        tongguolv = match.group(7)#通过率\n",
    "        a = (biaohao,lianjie,biaoti,fenshu,tongguoshu,tijiaoshu,tongguolv)\n",
    "        tiku.append(a)\n",
    "        lj.append(lianjie)\n",
    "    driver.close()"
   ]
  },
  {
   "cell_type": "code",
   "execution_count": null,
   "metadata": {},
   "outputs": [],
   "source": [
    "for i in tiku:\n",
    "    from selenium import webdriver\n",
    "    import re,time,codecs\n",
    "    driver=webdriver.Chrome()\n",
    "    driver.get(url)\n",
    "    time.sleep(2)\n",
    "    html = driver.page_source\n",
    "    reobj = re.compile(r'<div style=\"width: 100%;\">([\\d\\D]*?)</div><div class=\"problemInfo_OZ-Rv\">')\n",
    "    for match in reobj.finditer(html):\n",
    "        a = match.group(1)"
   ]
  },
  {
   "cell_type": "code",
   "execution_count": 2,
   "metadata": {},
   "outputs": [],
   "source": [
    "import codecs\n",
    "f = codecs.open(r\"D:41百腾题库.csv\",\"w\",\"utf_8_sig\")\n",
    "f.write(\"标号,链接,标题,分数,通过数,提交数,通过率\\n\")\n",
    "for i in tiku:\n",
    "   f.write(\",\".join(i)+\"\\n\") \n",
    "f.close()"
   ]
  },
  {
   "cell_type": "code",
   "execution_count": null,
   "metadata": {},
   "outputs": [],
   "source": []
  }
 ],
 "metadata": {
  "kernelspec": {
   "display_name": "Python 3",
   "language": "python",
   "name": "python3"
  },
  "language_info": {
   "codemirror_mode": {
    "name": "ipython",
    "version": 3
   },
   "file_extension": ".py",
   "mimetype": "text/x-python",
   "name": "python",
   "nbconvert_exporter": "python",
   "pygments_lexer": "ipython3",
   "version": "3.6.5"
  }
 },
 "nbformat": 4,
 "nbformat_minor": 2
}
