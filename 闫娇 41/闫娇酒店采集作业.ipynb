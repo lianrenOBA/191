{
 "cells": [
  {
   "cell_type": "code",
   "execution_count": 1,
   "metadata": {},
   "outputs": [],
   "source": [
    "from selenium import webdriver\n",
    "import re,time\n",
    "driver=webdriver.Chrome()\n",
    "url = 'https://map.baidu.com/search/%E7%BB%8F%E8%B4%B8%E9%99%84%E8%BF%91%E9%85%92%E5%BA%97/@13401816.6,3523321.62,15z?querytype=s&c=179&wd=%E7%BB%8F%E8%B4%B8%E9%99%84%E8%BF%91%E9%85%92%E5%BA%97&da_src=shareurl&on_gel=1&l=15&gr=1&b=(13396056.6,3520357.62;13407576.6,3526285.62)&pl_data_type=hotel&pl_sub_type=%E9%85%92%E5%BA%97&pl_price_section=0,%2B&pl_sort_type=default&pl_sort_rule=0&pl_discount2_section=0,%2B&pl_groupon_section=0,%2B&pl_cater_book_pc_section=0,%2B&pl_hotel_book_pc_section=0,%2B&pl_ticket_book_flag_section=0,%2B&pl_movie_book_section=0,%2B&pl_business_type=hotel&pn=0&device_ratio=1'\n",
    "driver.get(url)"
   ]
  },
  {
   "cell_type": "code",
   "execution_count": 2,
   "metadata": {},
   "outputs": [],
   "source": [
    "yj = []\n",
    "for i in range(15):\n",
    "    html = driver.page_source\n",
    "    reobj = re.compile(r'data-detail-code=\"list_page\">([\\d\\D]*?)</a>[\\d\\D]*?<span class=\"n-grey\" title=\"([\\d\\D]*?)\">')\n",
    "    for match in reobj.finditer(html):\n",
    "        a = match.group(1)\n",
    "        b = match.group(2)\n",
    "        c = (a,b)\n",
    "        yj.append(c)\n",
    "    driver.find_element_by_link_text(u\"下一页>\").click()\n",
    "    time.sleep(2)"
   ]
  },
  {
   "cell_type": "code",
   "execution_count": 3,
   "metadata": {},
   "outputs": [],
   "source": [
    "import codecs\n",
    "f = codecs.open(r\"D:\\酒店采集.csv\",\"w\",\"utf_8_sig\")\n",
    "f.write(\"酒店名称,地址\\n\")\n",
    "for i in yj:\n",
    "   f.write(\",\".join(i)+\"\\n\") \n",
    "f.close()"
   ]
  }
 ],
 "metadata": {
  "kernelspec": {
   "display_name": "Python 3",
   "language": "python",
   "name": "python3"
  },
  "language_info": {
   "codemirror_mode": {
    "name": "ipython",
    "version": 3
   },
   "file_extension": ".py",
   "mimetype": "text/x-python",
   "name": "python",
   "nbconvert_exporter": "python",
   "pygments_lexer": "ipython3",
   "version": "3.7.4"
  }
 },
 "nbformat": 4,
 "nbformat_minor": 2
}
